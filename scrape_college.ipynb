{
 "cells": [
  {
   "cell_type": "code",
   "execution_count": 1,
   "metadata": {},
   "outputs": [],
   "source": [
    "import bs4\n",
    "from urllib.request import urlopen as uo\n",
    "from bs4 import BeautifulSoup as BS\n",
    "import pandas as pd"
   ]
  },
  {
   "cell_type": "code",
   "execution_count": 2,
   "metadata": {},
   "outputs": [
    {
     "data": {
      "text/plain": [
       "11"
      ]
     },
     "execution_count": 2,
     "metadata": {},
     "output_type": "execute_result"
    }
   ],
   "source": [
    "filename = 'College_Details.csv'\n",
    "f = open(filename, 'w')\n",
    "headers = \"College Name, State, City, B.Tech Fee\\n\"\n",
    "f.write(headers)\n",
    "\n",
    "filename1 = 'College_Num.csv'\n",
    "f1 = open(filename1, 'w', encoding=\"utf-8\")\n",
    "headers1 = \"B.Tech Fee\\n\"\n",
    "f1.write(headers1)"
   ]
  },
  {
   "cell_type": "markdown",
   "metadata": {},
   "source": [
    "## Maharashtra Links"
   ]
  },
  {
   "cell_type": "code",
   "execution_count": 3,
   "metadata": {},
   "outputs": [],
   "source": [
    "new_urlM = 'https://collegedunia.com/engineering/maharashtra-colleges'\n",
    "new_urlMum = 'https://collegedunia.com/engineering/mumbai-colleges'\n",
    "new_urlPun = 'https://collegedunia.com/engineering/pune-colleges'\n",
    "new_urlNag = 'https://collegedunia.com/engineering/nagpur-colleges'\n",
    "new_urlNas = 'https://collegedunia.com/engineering/nashik-colleges'\n",
    "new_urlAur = 'https://collegedunia.com/engineering/aurangabad-colleges'\n",
    "new_urlNav = 'https://collegedunia.com/engineering/navi-mumbai-colleges'\n",
    "new_urlKop = 'https://collegedunia.com/engineering/kolhapur-colleges'\n",
    "new_urlSan = 'https://collegedunia.com/engineering/sangli-colleges'\n",
    "new_urlAhm = 'https://collegedunia.com/engineering/ahmed-nagar-colleges'"
   ]
  },
  {
   "cell_type": "code",
   "execution_count": 4,
   "metadata": {},
   "outputs": [],
   "source": [
    "#Establish connection, grab the page.\n",
    "ucM = uo(new_urlM)\n",
    "raw_pageM = ucM.read()\n",
    "ucM.close()\n",
    "#Mumbai\n",
    "ucMum = uo(new_urlMum)\n",
    "raw_pageMum = ucMum.read()\n",
    "ucMum.close()\n",
    "#Pune\n",
    "ucPun = uo(new_urlPun)\n",
    "raw_pagePun = ucPun.read()\n",
    "ucPun.close()\n",
    "#Nagpur\n",
    "ucNag = uo(new_urlNag)\n",
    "raw_pageNag = ucNag.read()\n",
    "ucNag.close()\n",
    "#Nashik\n",
    "ucNas = uo(new_urlNas)\n",
    "raw_pageNas = ucNas.read()\n",
    "ucNas.close()\n",
    "#Aurangabad\n",
    "ucAur = uo(new_urlAur)\n",
    "raw_pageAur = ucAur.read()\n",
    "ucAur.close()\n",
    "#Navi Mumbai\n",
    "ucNav = uo(new_urlNav)\n",
    "raw_pageNav = ucNav.read()\n",
    "ucNav.close()\n",
    "#Kolhapur\n",
    "ucKop = uo(new_urlKop)\n",
    "raw_pageKop = ucKop.read()\n",
    "ucKop.close()\n",
    "#Sangli\n",
    "ucSan = uo(new_urlSan)\n",
    "raw_pageSan = ucSan.read()\n",
    "ucSan.close()\n",
    "#Ahmadnagar\n",
    "ucAhm = uo(new_urlAhm)\n",
    "raw_pageAhm = ucAhm.read()\n",
    "ucAhm.close()\n"
   ]
  },
  {
   "cell_type": "code",
   "execution_count": 5,
   "metadata": {},
   "outputs": [],
   "source": [
    "#HTML parsing\n",
    "parsed_pageM = BS(raw_pageM, \"html.parser\")\n",
    "parsed_pageMum = BS(raw_pageMum, \"html.parser\")\n",
    "parsed_pagePun = BS(raw_pagePun, \"html.parser\")\n",
    "parsed_pageNag = BS(raw_pageNag, \"html.parser\")\n",
    "parsed_pageNas = BS(raw_pageNas, \"html.parser\")\n",
    "parsed_pageAur = BS(raw_pageAur, \"html.parser\")\n",
    "parsed_pageNav = BS(raw_pageNav, \"html.parser\")\n",
    "parsed_pageKop = BS(raw_pageKop, \"html.parser\")\n",
    "parsed_pageSan = BS(raw_pageSan, \"html.parser\")\n",
    "parsed_pageAhm = BS(raw_pageAhm, \"html.parser\")"
   ]
  },
  {
   "cell_type": "markdown",
   "metadata": {},
   "source": [
    "### Mumbai"
   ]
  },
  {
   "cell_type": "code",
   "execution_count": 6,
   "metadata": {},
   "outputs": [
    {
     "name": "stdout",
     "output_type": "stream",
     "text": [
      "30\n",
      "Indian Institute of Technology - [IIT]  Mumbai\n",
      "Institute of Chemical Technology - [ICT]  Mumbai\n",
      "Veermata Jijabai Technological Institute - [VJTI]  Mumbai\n",
      "KJ Somaiya Institute of Engineering and Information Technology - [KJSIEIT]  Mumbai\n",
      "Narsee Monjee Institute of Management Studies - [NMIMS Deemed to be University]  Mumbai\n",
      "K. J. Somaiya College of Engineering - [KJSCE]  Mumbai\n",
      "Rajiv Gandhi Institute of Technology - [RGIT]  Mumbai\n",
      "Don Bosco Institute of Technology - [DBIT]  Mumbai\n",
      "Fr. Conceicao Rodrigues College of Engineering - [CRCE]  Mumbai\n",
      "Sardar Patel College of Engineering - [SPCE]  Mumbai\n",
      "Vivekanand Education Society Institute of Technology [VESIT]  Mumbai\n",
      "Thakur College of Engineering and Technology - [TCET]  Mumbai\n",
      "M H Saboo Siddik College of Engineering - [MHSSCOE]  Mumbai\n",
      "Atharva College of Engineering  Mumbai\n",
      "Rizvi College of Engineering - [RCOE]  Mumbai\n",
      "Sardar Patel Institute of Technology - [SPIT]  Mumbai\n",
      "Shah and Anchor Kutchhi Engineering College - [SAKEC]  Mumbai\n",
      "St.  Francis Institute of Technology - [SFIT]  Mumbai\n",
      "Thadomal Shahani Engineering College - [TSEC]  Mumbai\n",
      "Watumull Institute of Electronic Engineering and Computer Technology - [WIEECT]  Mumbai\n",
      "Xavier Institute of Engineering - [XIE]  Mumbai\n",
      "Padmabhushan Vasantdada Patil Pratishthan's College of Engineering - [PVPPCOE]  Mumbai\n",
      "Vidyalankar Institute of Technology - [VIT]  Mumbai\n",
      "Dwarkadas J Sanghvi College of Engineering - [DJSCE]  Mumbai\n",
      "Tata Institute of Fundamental Research - [TIFR]  Mumbai\n",
      "Usha Mittal Institute of Technology - [UMIT]  Mumbai\n",
      "Mukesh Patel School of Technology Management and Engineering - [MPSTME]  Mumbai\n",
      "National Institute of Industrial Engineering - [NITIE]  Mumbai\n",
      "Sydenham Institute of Management Studies  Research & Entrepreneurship Education - [SIMSREE]\n",
      "University of Mumbai  Mumbai\n"
     ]
    }
   ],
   "source": [
    "#Maharashtra \n",
    "#Mumbai\n",
    "containerMum = parsed_pageMum.find_all('a', {'class':'college_name' })\n",
    "\n",
    "print(len(containerMum))\n",
    "\n",
    "for tMum in containerMum:\n",
    "\n",
    "    detailMum = tMum.text\n",
    "    detmum = detailMum.split(',')\n",
    "    titleMum = detmum[0]\n",
    "    locMum = detmum[1]\n",
    "    print(titleMum, locMum)\n",
    "    \n",
    "    f.write(titleMum + \",\" + \"Maharashtra\" + \",\" + locMum + \"\\n\")\n"
   ]
  },
  {
   "cell_type": "markdown",
   "metadata": {},
   "source": [
    "### Pune"
   ]
  },
  {
   "cell_type": "code",
   "execution_count": 7,
   "metadata": {},
   "outputs": [
    {
     "name": "stdout",
     "output_type": "stream",
     "text": [
      "30\n",
      "College of Engineering  - [COEP]  Pune\n",
      "Pune Institute of Computer Technology- [PICT]  Pune\n",
      "D. Y. Patil College of Engineering Akurdi  Pune\n",
      "Bharati Vidyapeeth University College of Engineering - [BVUCOE]  Pune\n",
      "MIT World Peace University - MIT  Pune\n",
      "Maeer's MIT College of Engineering - [MITCOE] Kothrud  Pune\n",
      "AISSMS College of Engineering - [AISSMSCOE]  Pune\n",
      "Modern Education Society's College of Engineering - [MES]  Pune\n",
      "Progressive Education Society's Modern College of Engineering - [MCOE]  Pune\n",
      "Pimpri Chinchwad College of Engineering - [PCCOE] Nigdi  Pune\n",
      "Pune Vidhyarthi Griha's College of Engineering and Technology - [PVGCOET]  Pune\n",
      "Sinhgad Academy of Engineering - [SAE] Kondhawa  Pune\n",
      "Sinhgad College of Engineering - [SCOE] Vadgaon Ambegaon  Pune\n",
      "Sinhgad Institute of Technology and Science -[SITS] Narhe  Pune\n",
      "Symbiosis Institute of Technology - [SIT]  Pune\n",
      "Government College of Engineering and Research  Pune\n",
      "Vishwakarma Institute of Technology - [VIT] Bibwewadi  Pune\n",
      "Alard College of Engineering and Management - [ACEM]  Pune\n",
      "Jayawantrao Sawant College of Engineering- [JSCOE]  Pune\n",
      "Marathwada Mitra Mandal's College of Engineering - [MMCOE] Karvenagar  Pune\n",
      "RMD Sinhgad School of Engineering -[RMDSSOE] Warje  Pune\n",
      "Sinhgad Institute of Technology - [SIT] Lonavala  Pune\n",
      "SVPM's College of Engineering Malegaon  Pune\n",
      "Army Institute of Technology - [AIT]  Pune\n",
      "Flora Institute of Technology  Pune\n",
      "Sahyadri Valley College of Engineering and Technology - [SVCET]  Pune\n",
      "Shree Ramchandra College of Engineering - [SRCOE]  Pune\n",
      "Suman Ramesh Tulsiani Technical Campus Faculty of Engineering - [SRTTC] Kamshet  Pune\n",
      "PK Technical Campus - [PKTC] Chakan  Pune\n",
      "Jai Hind College OF Engineering - [JCOE] Kuran  Pune\n"
     ]
    }
   ],
   "source": [
    "#Maharashtra \n",
    "#Pune\n",
    "containerPun = parsed_pagePun.find_all('a', {'class':'college_name' })\n",
    "\n",
    "print(len(containerPun))\n",
    "\n",
    "for tPun in containerPun:\n",
    "\n",
    "    detailPun = tPun.text\n",
    "    detPun = detailPun.split(',')\n",
    "    titlePun = detPun[0]\n",
    "    locPun = detPun[1]\n",
    "    print(titlePun, locPun)\n",
    "    \n",
    "    f.write(titlePun + \",\" + \"Maharashtra\" + \",\" + locPun + \"\\n\")\n"
   ]
  },
  {
   "cell_type": "markdown",
   "metadata": {},
   "source": [
    "### Nagpur"
   ]
  },
  {
   "cell_type": "code",
   "execution_count": 8,
   "metadata": {},
   "outputs": [
    {
     "name": "stdout",
     "output_type": "stream",
     "text": [
      "30\n",
      "Visvesvaraya National Institute of Technology - [VNIT]  Nagpur\n",
      "ITM College of Engineering  Nagpur\n",
      "Shri Ramdeobaba College of Engineering and Management - [RCOEM]  Nagpur\n",
      "Anjuman College of Engineering & Technology - [ACET]  Nagpur\n",
      "Laxminarayan Institute of Technology - [LIT]  Nagpur\n",
      "GH Raisoni College of Engineering - [GHRCE]  Nagpur\n",
      "Kavikulguru Institute of Technology and Science - [KITS]  Nagpur\n",
      "Karmavir Dadasaheb Kannamwar College of Engineering - [KDK]  Nagpur\n",
      "St Vincent Pallotti College of Engineering and Technology  Nagpur\n",
      "Nagpur Institute of Technology - [NIT]  Nagpur\n",
      "Priyadarshini Indira Gandhi College of Engineering - [PIGCE]  Nagpur\n",
      "Priyadarshini Institute of Engineering and Technology - [PIET]  Nagpur\n",
      "Tulsiramji GaikwadPatil College of Engineering and Technology - [TGPCET]  Nagpur\n",
      "VM Institute of Engineering and Technology - [VMIT]  Nagpur\n",
      "Abha GaikwadPatil College of Engineering  Nagpur\n",
      "G H Raisoni Institute of Engineering & Technology for Women -[GHRIET]  Nagpur\n",
      "Govindrao Wanjari College of Engineering and Technology - [GWCET]  Nagpur\n",
      "Guru Nanak Institute of Engineering & Technology - [GNIET]  Nagpur\n",
      "Nuva College of Engineering & Technology  Nagpur\n",
      "SB Jain Institute of Technology Management and Research - [SBJITMR]  Nagpur\n",
      "Priyadarshini Bhagwati College of Engineering - [PBCE]  Nagpur\n",
      "Smt. Rajshree Mulak College of Engineering for Women  Nagpur\n",
      "Suryodaya College of Engineering and Technology - [SCET]  Nagpur\n",
      "Yeshwantrao Chavan College of Engineering - [YCCE]  Nagpur\n",
      "Wainganga College of Engineering and Management - [WCEM]  Nagpur\n",
      "Vilasrao Deshmukh College of Engineering and Technology - [VDCET]  Nagpur\n",
      "Jhulelal Institute of Technology - [JIT]  Nagpur\n",
      "Nagarjuna Institute of Engineering Technology and Management - [NIETM]  Nagpur\n",
      "Vidya Niketan Institute of Engineering and Technology - [VNIET]  Nagpur\n",
      "Maharashtra Animal and Fishery Sciences University - [MAFSU]  Nagpur\n"
     ]
    }
   ],
   "source": [
    "#Maharashtra \n",
    "#Nagpur\n",
    "containerNag = parsed_pageNag.find_all('a', {'class':'college_name' })\n",
    "\n",
    "print(len(containerNag))\n",
    "\n",
    "for tNag in containerNag:\n",
    "\n",
    "    detailNag = tNag.text\n",
    "    detNag = detailNag.split(',')\n",
    "    titleNag = detNag[0]\n",
    "    locNag = detNag[1]\n",
    "    print(titleNag, locNag)\n",
    "    \n",
    "    f.write(titleNag + \",\" + \"Maharashtra\" + \",\" + locNag + \"\\n\")\n"
   ]
  },
  {
   "cell_type": "markdown",
   "metadata": {},
   "source": [
    "### Nashik"
   ]
  },
  {
   "cell_type": "code",
   "execution_count": 9,
   "metadata": {},
   "outputs": [
    {
     "name": "stdout",
     "output_type": "stream",
     "text": [
      "23\n",
      "MET Institute of Engineering - [MET]  Nashik\n",
      "RH Sapat College of Engineering  Management Studies and Research\n",
      "Sandip Institute of Technology and Research Center - [SITRC]  Nashik\n",
      "Brahma Valley College of Engineering and Research Institute  Nashik\n",
      "Late GN Sapkal College of Engineering  Nashik\n",
      "SND College of Engineering and Research Centre Yeola  Nashik\n",
      "Sandip Institute of Engineering and Management - [SIEM]  Nashik\n",
      "SNJB's College of Engineering Chandwad  Nashik\n",
      "Shatabdi Institute of Engineering and Research - [SIER]  Nashik\n",
      "Sir Visvesvaraya Institute Of Technology - [SVIT] Chincholi  Nashik\n",
      "Jawahar Education Society's Institute of Technology Management & Research [JIT]  Nashik\n",
      "Yashwantrao Chavan Maharashtra Open University- [YCMOU]  Nashik\n",
      "Dhanvantari College of Engineering  Nashik\n",
      "KK Wagh College of Agricultural Engineering and Technology  Nashik\n",
      "Abhinav Institute of Technology and Management  Nashik\n",
      "NDMVPS's Karmaveer Adv. Baburao Ganpatrao Thakare College of Engineering   Nashik\n",
      "Loknete Gopinathji Munde Institute of Engineering Education & Research - [LOGMIEER]  Nashik\n",
      "Matoshri College of Engineering and Research Centre - [MCOERC] Eklahare  Nashik\n",
      "Sanghavi College of Engineering  Nashik\n",
      "Guru Gobind Singh College of Engineering And Research Centre  Nashik\n",
      "MET Bhujbal Knowledge City  Nashik\n",
      "Sandip University  Nashik\n",
      "KK Wagh Polytechnic  Nashik\n"
     ]
    }
   ],
   "source": [
    "#Maharashtra \n",
    "#Nashik\n",
    "containerNas = parsed_pageNas.find_all('a', {'class':'college_name' })\n",
    "\n",
    "print(len(containerNas))\n",
    "\n",
    "for tNas in containerNas:\n",
    "\n",
    "    detailNas = tNas.text\n",
    "    detNas = detailNas.split(',')\n",
    "    titleNas = detNas[0]\n",
    "    locNas = detNas[1]\n",
    "    print(titleNas, locNas)\n",
    "    \n",
    "    f.write(titleNas + \",\" + \"Maharashtra\" + \",\" + locNas + \"\\n\")\n"
   ]
  },
  {
   "cell_type": "markdown",
   "metadata": {},
   "source": [
    "### Aurangabad"
   ]
  },
  {
   "cell_type": "code",
   "execution_count": 10,
   "metadata": {},
   "outputs": [
    {
     "name": "stdout",
     "output_type": "stream",
     "text": [
      "21\n",
      "Government College of Engineering - [GECA]  Aurangabad\n",
      "Deogiri Institute of Engineering and Management Studies - [DIEMS]  Aurangabad\n",
      "Jawaharlal Nehru Engineering College - [JNEC]  Aurangabad\n",
      "GS Mandal's Marathwada Institute of Technology - [MIT]  Aurangabad\n",
      "Shreeyash College of Engineering and Technology - [SYCET]  Aurangabad\n",
      "Dr Babasaheb Ambedkar Marathwada University - [BAMU]  Aurangabad\n",
      "Aurangabad College of Engineering - [ACE]  Aurangabad\n",
      "PES College of Engineering - [PESCOE]  Aurangabad\n",
      "Savitribai Phule Women's Engineering College - [SPW]  Aurangabad\n",
      "International Center of Excellence in Engineering & Management - [ICEEM]  Aurangabad\n",
      "Everest Education Society Group of institutions College of Engineering and Technology  Aurangabad\n",
      "Shri Sai College Of Engineering  Aurangabad\n",
      "Sai Institute of Engineering and Technology - [SIET]  Aurangabad\n",
      "Maulana Azad College  Aurangabad\n",
      "MGM College of Agricultural Biotechnology  Aurangabad\n",
      "Abhinav Institute of Technology and Management  Aurangabad\n",
      "Dr Seema Quadri Institute of Engineering and Technology  Aurangabad\n",
      "Hi-Tech Institute of Technology  Aurangabad\n",
      "Maharashtra Institute of Technology - [MIT]  Aurangabad\n",
      "National Institute of Electronics and Information Technology - [NIELIT]  Aurangabad\n",
      "CSMSS Chh. Shahu College of Engineering  Aurangabad\n"
     ]
    }
   ],
   "source": [
    "#Maharashtra \n",
    "#Aurangabad\n",
    "containerAur = parsed_pageAur.find_all('a', {'class':'college_name' })\n",
    "\n",
    "print(len(containerAur))\n",
    "\n",
    "for tAur in containerAur:\n",
    "\n",
    "    detailAur = tAur.text\n",
    "    detAur = detailAur.split(',')\n",
    "    titleAur = detAur[0]\n",
    "    locAur = detAur[1]\n",
    "    print(titleAur, locAur)\n",
    "    \n",
    "    f.write(titleAur + \",\" + \"Maharashtra\" + \",\" + locAur + \"\\n\")\n"
   ]
  },
  {
   "cell_type": "markdown",
   "metadata": {},
   "source": [
    "### Navi Mumbai"
   ]
  },
  {
   "cell_type": "code",
   "execution_count": 11,
   "metadata": {},
   "outputs": [
    {
     "name": "stdout",
     "output_type": "stream",
     "text": [
      "18\n",
      "Fr. C. Rodrigues Institute of Technology - [FCRIT]  Navi Mumbai\n",
      "Lokmanya Tilak College of Engineering - [LTCE]  Navi Mumbai\n",
      "Pillai College of Engineering - [PCE]  Navi Mumbai\n",
      "Ramrao Adik Institute of Technology - [RAIT]  Navi Mumbai\n",
      "SIES Graduate School of Technology - [SIES-GST]  Navi Mumbai\n",
      "Saraswati College of Engineering - [SCOE]  Navi Mumbai\n",
      "Mahatma Gandhi Mission's College of Engineering and Technology - [MGMCET]  Navi Mumbai\n",
      "Smt. Indira Gandhi College of Engineering - [SIGCE]  Navi Mumbai\n",
      "Jawahar Education Society’s A. C. Patil College of Engineering - [ACPCE]  Navi Mumbai\n",
      "TPCT’s Terna Engineering College   Navi Mumbai\n",
      "AnjumanIIslam's Kalsekar Technical Campus School of Engineering and Technology  Navi Mumbai\n",
      "DY Patil University  Navi Mumbai\n",
      "Bharati Vidyapeeth College of Engineering - [BVCOE]  Navi Mumbai\n",
      "Datta Meghe College of Engineering Airoli  Navi Mumbai\n",
      "Dr DY Patil School of  Biotechnology and Bioinformatics  Navi Mumbai\n",
      "Indian Institution of Industrial Engineering  Navi Mumbai\n",
      "Institute of Marine Engineers India  Navi Mumbai\n",
      "Karamveer Bhauro Patil College - [KBP College]  Navi Mumbai\n"
     ]
    }
   ],
   "source": [
    "#Maharashtra \n",
    "#Navi Mumbai\n",
    "containerNav = parsed_pageNav.find_all('a', {'class':'college_name' })\n",
    "\n",
    "print(len(containerNav))\n",
    "\n",
    "for tNav in containerNav:\n",
    "\n",
    "    detailNav = tNav.text\n",
    "    detNav = detailNav.split(',')\n",
    "    titleNav = detNav[0]\n",
    "    locNav = detNav[1]\n",
    "    print(titleNav, locNav)\n",
    "    \n",
    "    f.write(titleNav + \",\" + \"Maharashtra\" + \",\" + locNav + \"\\n\")\n"
   ]
  },
  {
   "cell_type": "markdown",
   "metadata": {},
   "source": [
    "### Kolhapur"
   ]
  },
  {
   "cell_type": "code",
   "execution_count": 12,
   "metadata": {},
   "outputs": [
    {
     "name": "stdout",
     "output_type": "stream",
     "text": [
      "18\n",
      "Sanjay Ghodawat University  Kolhapur\n",
      "Shivaji University - [SUK]  Kolhapur\n",
      "DKTE Society's Textile and Engineering Institute  Kolhapur\n",
      "DY Patil College of Engineering and Technology - [DYPCET]  Kolhapur\n",
      "Dr. J.J. Magdum College Of Engineering  Kolhapur\n",
      "KIT's College of Engineering  Kolhapur\n",
      "Sant Gajanan Maharaj College of Engineering  Kolhapur\n",
      "Bharati Vidyapeeth College of Engineering  Kolhapur\n",
      "Sanjeevan Engineering and Technology Institute - [SETI]  Kolhapur\n",
      "Sharad Institute of Technology College of Engineering  Kolhapur\n",
      "Tatyasaheb Kore Institute of Engineering and Technology - [TKIET]  Kolhapur\n",
      "Dhananjay Mahadik Group of Institutions  Kolhapur\n",
      "DY Patil Education Society's DY Patil Technical Campus - [DYP]  Kolhapur\n",
      "Shri Balasaheb Mane Shikshan Prasarak Mandal - [SBMSPM]  Kolhapur\n",
      "Genesis Institute of Technology  Kolhapur\n",
      "Bhima Institute of Management and Technology - [BIMAT]  Kolhapur\n",
      "Ashokrao Mane Group of Institution  Faculty of Engineering & Management Studies\n",
      "Dr. D. Y. Patil College of Agricultural Engineering & Technology Talsande  Kolhapur\n"
     ]
    }
   ],
   "source": [
    "#Maharashtra \n",
    "#Kolhapur\n",
    "containerKop = parsed_pageKop.find_all('a', {'class':'college_name' })\n",
    "\n",
    "print(len(containerKop))\n",
    "\n",
    "for tKop in containerKop:\n",
    "\n",
    "    detailKop = tKop.text\n",
    "    detKop = detailKop.split(',')\n",
    "    titleKop = detKop[0]\n",
    "    locKop = detKop[1]\n",
    "    print(titleKop, locKop)\n",
    "    \n",
    "    f.write(titleKop + \",\" + \"Maharashtra\" + \",\" + locKop + \"\\n\")\n"
   ]
  },
  {
   "cell_type": "markdown",
   "metadata": {},
   "source": [
    "### Sangli"
   ]
  },
  {
   "cell_type": "code",
   "execution_count": 13,
   "metadata": {},
   "outputs": [
    {
     "name": "stdout",
     "output_type": "stream",
     "text": [
      "11\n",
      "Walchand College of Engineering - [WCE]  Sangli\n",
      "Rajarambapu Institute of Technology - [RIT]  Sangli\n",
      "Jaywant College of Engineering and Management - [JCEM]  Sangli\n",
      "Nanasaheb Mahadik College of Engineering - [NMCE]  Sangli\n",
      "Adarsh Institute of Technology and Research Centre - [ AITRC]  Sangli\n",
      "Annasaheb Dange College of Engineering & Technology - [ADCET]  Sangli\n",
      "Manajiraje Bhosale Technical Campus Faculty of Engineering - [MBT]  Sangli\n",
      "Miraj Mahavidyalaya  Sangli\n",
      "Padmabhooshan Vasantdada Patil Institute of Technology - [PVPIT]  Sangli\n",
      "Sanjay Bhokare Group of Institutes - [SBGI]  Sangli\n",
      "Vishveshwarya Technical Campus - [VTC]  Sangli\n"
     ]
    }
   ],
   "source": [
    "#Maharashtra \n",
    "#Sangli\n",
    "containerSan = parsed_pageSan.find_all('a', {'class':'college_name' })\n",
    "\n",
    "print(len(containerSan))\n",
    "\n",
    "for tSan in containerSan:\n",
    "\n",
    "    detailSan = tSan.text\n",
    "    detSan = detailSan.split(',')\n",
    "    titleSan = detSan[0]\n",
    "    locSan = detSan[1]\n",
    "    print(titleSan, locSan)\n",
    "    \n",
    "    f.write(titleSan + \",\" + \"Maharashtra\" + \",\" + locSan + \"\\n\")\n"
   ]
  },
  {
   "cell_type": "markdown",
   "metadata": {},
   "source": [
    "### Ahmednagar"
   ]
  },
  {
   "cell_type": "code",
   "execution_count": 14,
   "metadata": {},
   "outputs": [
    {
     "name": "stdout",
     "output_type": "stream",
     "text": [
      "16\n",
      "Amrutvahini College of Engineering - [AVCOE] Sangamner  Ahmed Nagar\n",
      "Shri Chhatrapati Shivaji College of Engineering - [SCSCOE]  Ahmed Nagar\n",
      "Shri Sai Baba Institute of Engineering Research and Allied Sciences  Ahmed Nagar\n",
      "Shri Sant Gadge Baba College of Engineering and Technology  Ahmed Nagar\n",
      "Hon Shri Babanrao Pachpute Vichardhara Trust's Faculty of Engineering - [HSBPVTFE]  Ahmed Nagar\n",
      "Pravara Rural Engineering College Loni  Ahmed Nagar\n",
      "GH Raisoni College of Engineering and Management - [GHCEM]  Ahmed Nagar\n",
      "Vidya Niketan College of Engineering Sangamner  Ahmed Nagar\n",
      "Vishwabharati Academy's College of Engineering & Polytechnic - [VACEOP]  Ahmed Nagar\n",
      "Dr. Vithalrao Vikhe Patil College of Engineering  Ahmed Nagar\n",
      "Pravara Institute of Medical Sciences University - [PIMS]  Ahmed Nagar\n",
      "Sanjivani College of Engineering Kopargaon  Ahmed Nagar\n",
      "Shri Chhatrapati Shivaji Maharaj College of Engineering - [SCOEA] Nepti  Ahmed Nagar\n",
      "Rajiv Gandhi College of Engineering & Polytechnic - [RGCOE]  Ahmed Nagar\n",
      "Adsul Technical Campus Faculty of Engineering & MBA  Ahmed Nagar\n",
      "Akole Taluka Education Society's Technical Campus Akole  Ahmed Nagar\n"
     ]
    }
   ],
   "source": [
    "#Maharashtra \n",
    "#Ahmednagar\n",
    "containerAhm = parsed_pageAhm.find_all('a', {'class':'college_name' })\n",
    "\n",
    "print(len(containerAhm))\n",
    "\n",
    "for tAhm in containerAhm:\n",
    "\n",
    "    detailAhm = tAhm.text\n",
    "    detAhm = detailAhm.split(',')\n",
    "    titleAhm = detAhm[0]\n",
    "    locAhm = detAhm[1]\n",
    "    print(titleAhm, locAhm)\n",
    "    \n",
    "    f.write(titleAhm + \",\" + \"Maharashtra\" + \",\" + locAhm + \"\\n\")\n"
   ]
  },
  {
   "cell_type": "code",
   "execution_count": 15,
   "metadata": {},
   "outputs": [],
   "source": [
    "#Maharashtra\n",
    "#containerM1 = parsed_pageM.find_all('a', {'class':'college_name' })\n",
    "\n",
    "#print(len(containerM1))\n",
    "\n",
    "#for tM in containerM1:\n",
    "\n",
    "    #detailM = tM.text\n",
    "    #det = detailM.split(',')\n",
    "    #titleM = det[0]\n",
    "    #locM = det[1]\n",
    "    #print(titleM, locM)\n",
    "    \n",
    "    \n",
    "    #f.write(titleM + \",\" + locM + \"\\n\")\n"
   ]
  },
  {
   "cell_type": "code",
   "execution_count": 16,
   "metadata": {},
   "outputs": [],
   "source": [
    "#containerM2 = parsed_pageM.findAll('span', {'class':'lr-key'})\n",
    "\n",
    "#count=3\n",
    "#for fM in containerM2:\n",
    "    #feedetM = fM.text\n",
    "    #feedet = feedetM.split()\n",
    "    #if(count%3==0):\n",
    "        #bfeeM = feedetM\n",
    "        #print(\"B.Tech: \",feedetM)\n",
    "    #elif(count%3==1):\n",
    "        #print(\"M.tech: \",feedetM)\n",
    "        #mfeeM = feedetM\n",
    "    #elif(count%3==2):\n",
    "        #print(\"Rating: \", feedetM)\n",
    "        #ratingM = feedetM\n",
    "        #f1.write(bfeeM + \"\\n\")\n",
    "    #count=count+1"
   ]
  },
  {
   "cell_type": "markdown",
   "metadata": {},
   "source": [
    "## Karnataka Links"
   ]
  },
  {
   "cell_type": "code",
   "execution_count": 17,
   "metadata": {},
   "outputs": [],
   "source": [
    "#Karnataka\n",
    "new_urlBan = 'https://collegedunia.com/engineering/bangalore-colleges'\n",
    "new_urlMan = 'https://collegedunia.com/engineering/mangalore-colleges'\n",
    "new_urlMys = 'https://collegedunia.com/engineering/mysore-colleges'\n",
    "new_urlBel = 'https://collegedunia.com/engineering/belgaum-colleges'"
   ]
  },
  {
   "cell_type": "code",
   "execution_count": 18,
   "metadata": {},
   "outputs": [],
   "source": [
    "#Establish connection, grab the page.\n",
    "#Bangalore\n",
    "ucBan = uo(new_urlBan)\n",
    "raw_pageBan = ucBan.read()\n",
    "ucBan.close()\n",
    "#Mangalore\n",
    "ucMan = uo(new_urlMan)\n",
    "raw_pageMan = ucMan.read()\n",
    "ucMan.close()\n",
    "#Mysore\n",
    "ucMys = uo(new_urlMys)\n",
    "raw_pageMys = ucMys.read()\n",
    "ucMys.close()\n",
    "#Belgaum\n",
    "ucBel = uo(new_urlBel)\n",
    "raw_pageBel = ucBel.read()\n",
    "ucBel.close()\n"
   ]
  },
  {
   "cell_type": "code",
   "execution_count": 19,
   "metadata": {},
   "outputs": [],
   "source": [
    "#HTML parsing\n",
    "parsed_pageBan = BS(raw_pageBan, \"html.parser\")\n",
    "parsed_pageMan = BS(raw_pageMan, \"html.parser\")\n",
    "parsed_pageMys = BS(raw_pageMys, \"html.parser\")\n",
    "parsed_pageBel = BS(raw_pageBel, \"html.parser\")"
   ]
  },
  {
   "cell_type": "markdown",
   "metadata": {},
   "source": [
    "### Bangalore"
   ]
  },
  {
   "cell_type": "code",
   "execution_count": 20,
   "metadata": {},
   "outputs": [
    {
     "name": "stdout",
     "output_type": "stream",
     "text": [
      "30\n",
      "Indian Institute of Science - [IISc]  Bangalore\n",
      "R V College of Engineering - [RVCE]  Bangalore\n",
      "PES University - [PESU]  Bangalore\n",
      "International Institute of Information Technology - [IIIT-B]  Bangalore\n",
      "Bangalore Institute of Technology - [BIT]  Bangalore\n",
      "University Visvesvaraya College of Engineering - [UVCE]  Bangalore\n",
      "M. S. Ramaiah Institute of Technology - [MSRIT]  Bangalore\n",
      "HKBK College of Engineering - [HKBKCE]  Bangalore\n",
      "BMS Institute of Technology and Management - [BMSIT & M]  Bangalore\n",
      "B. N. M. Institute of Technology - [BNMIT]  Bangalore\n",
      "RNS Institute of Technology - [RNSIT]  Bangalore\n",
      "Jain University - [JU]  Bangalore\n",
      "Dayanand Sagar College of Engineering - [DSCE]  Bangalore\n",
      "Acharya Institute of Technology - [AIT]  Bangalore\n",
      "Alpha College of Engineering  Bangalore\n",
      "CMR Institute of Technology - [CMRIT]  Bangalore\n",
      "Dayananda Sagar Academy of Technology and Management - [DSATM]  Bangalore\n",
      "Dr. Ambedkar Institute of Technology - [AIT]  Bangalore\n",
      "Global Academy of Technology - [GAT]  Bangalore\n",
      "Government Sri Krishnarajendra Silver Jubilee Technological Institute  Bangalore\n",
      "MVJ College of Engineering - [MVJCE]  Bangalore\n",
      "New Horizon College of Engineering - [NHCE]  Bangalore\n",
      "Nitte Meenakshi Institute of Technology - [NMIT]  Bangalore\n",
      "Reva Institute of Technology and Management - [RITM]  Bangalore\n",
      "Sai Vidya Institute of Technology - [SVIT]  Bangalore\n",
      "Sapthagiri College of Engineering  Bangalore\n",
      "SJB Institute of Technology - [SJBIT]  Bangalore\n",
      "Achutha Institute of Technology - [AIT]  Bangalore\n",
      "BTL Institute of Technology and Management - [BTLITM]  Bangalore\n",
      "Bangalore College of Engineering and Technology-[BCET]  Bangalore\n"
     ]
    }
   ],
   "source": [
    "#Karnataka \n",
    "#Bangalore\n",
    "containerBan = parsed_pageBan.find_all('a', {'class':'college_name' })\n",
    "\n",
    "print(len(containerBan))\n",
    "\n",
    "for tBan in containerBan:\n",
    "\n",
    "    detailBan = tBan.text\n",
    "    detBan = detailBan.split(',')\n",
    "    titleBan = detBan[0]\n",
    "    locBan = detBan[1]\n",
    "    print(titleBan, locBan)\n",
    "    \n",
    "    f.write(titleBan + \",\" + \"Karnataka\" + \",\" + locBan + \"\\n\")\n"
   ]
  },
  {
   "cell_type": "markdown",
   "metadata": {},
   "source": [
    "### Mangalore"
   ]
  },
  {
   "cell_type": "code",
   "execution_count": 21,
   "metadata": {},
   "outputs": [
    {
     "name": "stdout",
     "output_type": "stream",
     "text": [
      "19\n",
      "Srinivas Institute of Technology - [SIT] Volachil  Mangalore\n",
      "Bearys Institute of Technology-[BIT]  Mangalore\n",
      "St Joseph Engineering College - [SJEC]  Mangalore\n",
      "Canara Engineering College - [CEG]  Mangalore\n",
      "Dr MV Shetty Institute of Technology - [MVSIT]  Mangalore\n",
      "Karavali Institute of Technology - [KIT]  Mangalore\n",
      "Shree Devi Institute of Technology - [SDIT]  Mangalore\n",
      "Mangalore Institute of Technology and Engineering - [MITE]  Mangalore\n",
      "Mangalore Marine College and Technology - [MMCT]  Mangalore\n",
      "PA College of Engineering - [PACE]  Mangalore\n",
      "Sahyadri College of Engineering and Management  Mangalore\n",
      "Srinivas School of Engineering - [SSE] Mukka  Mangalore\n",
      "SDM Institute of Technology Ujire  Mangalore\n",
      "Alva's Institute of Engineering and Technology  Mangalore\n",
      "Mangalore University  Mangalore\n",
      "Mangalore Institute of Fashion Technology - [MIFT]  Mangalore\n",
      "Mangalore Institute of Fire and Safety Engineering - [MIFSE]  Mangalore\n",
      "Srinivas University  Mangalore\n",
      "AJ Institute of Engineering and Technology - [AJIET]  Mangalore\n"
     ]
    }
   ],
   "source": [
    "#Karnataka \n",
    "#Mangalore\n",
    "containerMan = parsed_pageMan.find_all('a', {'class':'college_name' })\n",
    "\n",
    "print(len(containerMan))\n",
    "\n",
    "for tMan in containerMan:\n",
    "\n",
    "    detailMan = tMan.text\n",
    "    detMan = detailMan.split(',')\n",
    "    titleMan = detMan[0]\n",
    "    locMan = detMan[1]\n",
    "    print(titleMan, locMan)\n",
    "    \n",
    "    f.write(titleMan + \",\" + \"Karnataka\" + \",\" + locMan + \"\\n\")\n"
   ]
  },
  {
   "cell_type": "markdown",
   "metadata": {},
   "source": [
    "### Mysore"
   ]
  },
  {
   "cell_type": "code",
   "execution_count": 22,
   "metadata": {},
   "outputs": [
    {
     "name": "stdout",
     "output_type": "stream",
     "text": [
      "15\n",
      "The National Institute of Engineering - [NIE]  Mysore\n",
      "Sri Jayachamarajendra College of Engineering - [SJCE]  Mysore\n",
      "Vidyavardhaka College of Engineering - [VVCE]  Mysore\n",
      "NIE Institute of Technology - [NIEIT]  Mysore\n",
      "Academy for Technical and Management Excellence - [ATME]  Mysore\n",
      "GSSS Institute of Engineering and Technology for Women - [GSSSIETW]  Mysore\n",
      "Vidya Vikas Institute of Engineering and Technology - [VVIET]  Mysore\n",
      "Maharaja Institute of Technology - [MIT]  Mysore\n",
      "University of Mysore - [UOM]  Mysore\n",
      "International School of Information Management - [ISIM]  Mysore\n",
      "Directorate Of Distance Education  University Of Mysore\n",
      "Mysore College of Engineering & Management - [MYCEM]  Mysore\n",
      "Mysuru Royal Institute of Technology - [MRIT] Lakshmipura  Mysore\n",
      "School of Planning and Architecture  University of Mysore - [SPA]\n",
      "Maharaja Institute of Technology  Thandavapura - [MITT]\n"
     ]
    }
   ],
   "source": [
    "#Karnataka \n",
    "#Mysore\n",
    "containerMys = parsed_pageMys.find_all('a', {'class':'college_name' })\n",
    "\n",
    "print(len(containerMys))\n",
    "\n",
    "for tMys in containerMys:\n",
    "\n",
    "    detailMys = tMys.text\n",
    "    detMys = detailMys.split(',')\n",
    "    titleMys = detMys[0]\n",
    "    locMys = detMys[1]\n",
    "    print(titleMys, locMys)\n",
    "    \n",
    "    f.write(titleMys + \",\" + \"Karnataka\" + \",\" + locMys + \"\\n\")\n"
   ]
  },
  {
   "cell_type": "markdown",
   "metadata": {},
   "source": [
    "### Belgaum"
   ]
  },
  {
   "cell_type": "code",
   "execution_count": 23,
   "metadata": {},
   "outputs": [
    {
     "name": "stdout",
     "output_type": "stream",
     "text": [
      "11\n",
      "Maratha Mandal Engineering College - [MMEC]  Belgaum\n",
      "Jain College of Engineering - [JCE]  Belgaum\n",
      "KLE Dr MS Sheshgiri College of Engineering & Technology  Belgaum\n",
      "KLS Gogte Institute of Technology  Belgaum\n",
      "Hirasugar Institute of Technology - [HIT]  Belgaum\n",
      "KLE Dr. M S Sheshgiri College of Engineering and Technology - [DR.MSSCET]  Belgaum\n",
      "Shaikh College of Engineering and Technology - [SCET]  Belgaum\n",
      "Angadi Institute of Technology and Management - [AITM]  Belgaum\n",
      "SG Balekundri Institute of Technology  Belgaum\n",
      "VSM Institute of Technology - [VSMIT]  Belgaum\n",
      "Visvesvaraya Technological University - [VTU]  Belgaum\n"
     ]
    }
   ],
   "source": [
    "#Karnataka \n",
    "#Belgaum\n",
    "containerBel = parsed_pageBel.find_all('a', {'class':'college_name' })\n",
    "\n",
    "print(len(containerBel))\n",
    "\n",
    "for tBel in containerBel:\n",
    "\n",
    "    detailBel = tBel.text\n",
    "    detBel = detailBel.split(',')\n",
    "    titleBel = detBel[0]\n",
    "    locBel = detBel[1]\n",
    "    print(titleBel, locBel)\n",
    "    \n",
    "    f.write(titleBel + \",\" + \"Karnataka\" + \",\" + locBel + \"\\n\")\n"
   ]
  },
  {
   "cell_type": "markdown",
   "metadata": {},
   "source": [
    "## Tamil Nadu Links"
   ]
  },
  {
   "cell_type": "code",
   "execution_count": 24,
   "metadata": {},
   "outputs": [],
   "source": [
    "#TamilNadu\n",
    "new_urlChe = 'https://collegedunia.com/engineering/chennai-colleges'\n",
    "new_urlCoi = 'https://collegedunia.com/engineering/coimbatore-colleges'\n",
    "new_urlKan = 'https://collegedunia.com/engineering/kanyakumari-colleges'\n",
    "new_urlSal = 'https://collegedunia.com/engineering/salem-colleges'\n",
    "new_urlKanc = 'https://collegedunia.com/engineering/kanchipuram-colleges'\n",
    "new_urlTha = 'https://collegedunia.com/engineering/thanjavur-colleges'\n",
    "new_urlVel = 'https://collegedunia.com/engineering/vellore-colleges'"
   ]
  },
  {
   "cell_type": "code",
   "execution_count": 25,
   "metadata": {},
   "outputs": [],
   "source": [
    "#Establish connection, grab the page.\n",
    "#Chennai\n",
    "ucChe = uo(new_urlChe)\n",
    "raw_pageChe = ucChe.read()\n",
    "ucChe.close()\n",
    "#Coimbatore\n",
    "ucCoi = uo(new_urlCoi)\n",
    "raw_pageCoi = ucCoi.read()\n",
    "ucCoi.close()\n",
    "#Kanyakumari\n",
    "ucKan = uo(new_urlKan)\n",
    "raw_pageKan = ucKan.read()\n",
    "ucKan.close()\n",
    "#Salem\n",
    "ucSal = uo(new_urlSal)\n",
    "raw_pageSal = ucSal.read()\n",
    "ucSal.close()\n",
    "#Kanchipuram\n",
    "ucKanc = uo(new_urlKanc)\n",
    "raw_pageKanc = ucKanc.read()\n",
    "ucKanc.close()\n",
    "#Thanjavur\n",
    "ucTha = uo(new_urlTha)\n",
    "raw_pageTha = ucTha.read()\n",
    "ucTha.close()\n",
    "#Vellore\n",
    "ucVel = uo(new_urlVel)\n",
    "raw_pageVel = ucVel.read()\n",
    "ucVel.close()\n"
   ]
  },
  {
   "cell_type": "code",
   "execution_count": 26,
   "metadata": {},
   "outputs": [],
   "source": [
    "#HTML parsing\n",
    "parsed_pageChe = BS(raw_pageChe, \"html.parser\")\n",
    "parsed_pageCoi = BS(raw_pageCoi, \"html.parser\")\n",
    "parsed_pageKan = BS(raw_pageKan, \"html.parser\")\n",
    "parsed_pageSal = BS(raw_pageSal, \"html.parser\")\n",
    "parsed_pageKanc = BS(raw_pageKanc, \"html.parser\")\n",
    "parsed_pageTha = BS(raw_pageTha, \"html.parser\")\n",
    "parsed_pageVel = BS(raw_pageVel, \"html.parser\")"
   ]
  },
  {
   "cell_type": "markdown",
   "metadata": {},
   "source": [
    "### Chennai"
   ]
  },
  {
   "cell_type": "code",
   "execution_count": 27,
   "metadata": {},
   "outputs": [
    {
     "name": "stdout",
     "output_type": "stream",
     "text": [
      "31\n",
      "Indian Institute of Technology Madras - [IITM]  Chennai\n",
      "Academy of Maritime Education and Training University - [AMET]  Chennai\n",
      "Chennai Institute of Technology - [CIT]  Chennai\n",
      "Indian Maritime University - [IMU]  Chennai\n",
      "VELS University  Chennai\n",
      "Easwari Engineering College - [EEC]  Chennai\n",
      "Meenakshi Sundararajan Engineering College - [MSEC]  Chennai\n",
      "St. Joseph's College of Engineering - [SJCOE]  Chennai\n",
      "Panimalar Engineering College  Chennai\n",
      "Vel Tech High Tech Dr.Rangarajan Dr.Sakunthala Engineering College  Chennai\n",
      "Government College of Engineering - [GCE]  Chennai\n",
      "Alagappa College of Technology  Anna University - [ACT]\n",
      "Madras Institute of Technology- [MIT]  Chennai\n",
      "College of Engineering  Anna University - [CEG]\n",
      "Hindustan Institute of Technology and Science - [HITS]  Chennai\n",
      "SSN College of Engineering - [SSNCE]  Chennai\n",
      "Sri Sairam Institute of Technology - [SSIT]  Chennai\n",
      "Central Institute of Plastics Engineering and Technology - [CIPET]  Chennai\n",
      "Jeppiaar Engineering College  Chennai\n",
      "Jerusalem College of Engineering - [JCE]  Chennai\n",
      "Misrimal Navajee Munoth Jain Engineering College  Chennai\n",
      "Rajalakshmi Institute of Technology - [RIT]  Chennai\n",
      "JEPPIAAR SRR Engineering college  Chennai\n",
      "Saveetha Engineering College - [SEC]  Chennai\n",
      "St Xaviers Catholic College of Engineering - [SXCCE]  Chennai\n",
      "Velammal Engineering College - [VEC]  Chennai\n",
      "Indian Institute of Information Technology Design & Manufacturing - [IIITDM]  Chennai\n",
      "KCG College Of technology  Chennai\n",
      "Vel Tech Multi Tech Dr. Rangarajan Dr. Sakunthala Engineering College  Chennai\n",
      "Sri Sai Ram Engineering College - [SSEC]  Chennai\n",
      "Panimalar Institute of Technology-[PIT]  Chennai\n"
     ]
    }
   ],
   "source": [
    "#Tamil Nadu \n",
    "#Chennai\n",
    "containerChe = parsed_pageChe.find_all('a', {'class':'college_name' })\n",
    "\n",
    "print(len(containerChe))\n",
    "\n",
    "for tChe in containerChe:\n",
    "\n",
    "    detailChe = tChe.text\n",
    "    detChe = detailChe.split(',')\n",
    "    titleChe = detChe[0]\n",
    "    locChe = detChe[1]\n",
    "    print(titleChe, locChe)\n",
    "    \n",
    "    f.write(titleChe + \",\" + \"Tamil Nadu\" + \",\"  + locChe + \"\\n\")\n"
   ]
  },
  {
   "cell_type": "markdown",
   "metadata": {},
   "source": [
    "### Coimbatore"
   ]
  },
  {
   "cell_type": "code",
   "execution_count": 28,
   "metadata": {},
   "outputs": [
    {
     "name": "stdout",
     "output_type": "stream",
     "text": [
      "30\n",
      "P.S.G College of Technology - [PSGCT]  Coimbatore\n",
      "Tamil Nadu Agricultural University - [TNAU]-  Coimbatore\n",
      "Amrita Vishwa Vidyapeetham Coimbatore Campus  Coimbatore\n",
      "Coimbatore Institute of Technology - [CIT]  Coimbatore\n",
      "Sri Krishna College of Engineering and Technology - [SKCET]  Coimbatore\n",
      "Amrita School of Engineering - [ASE]  Coimbatore\n",
      "Government College of Technology - [GCT]  Coimbatore\n",
      "Karunya Institute of Technology and Sciences -\r\n",
      " [Karunya University]  Coimbatore\n",
      "Bannari Amman Institute of Technology - [BAIT]  Coimbatore\n",
      "Dr. Mahalingam College of Engineering & Technology - [MCET]  Coimbatore\n",
      "Hindusthan College of Engineering and Technology - [HCET]  Coimbatore\n",
      "Karpagam College of Engineering  Coimbatore\n",
      "Kumaraguru College of Technology - [KCT]  Coimbatore\n",
      "Sri Ramakrishna Engineering College - [SREC]  Coimbatore\n",
      "Sri Ramakrishna Institute of Technology - [SRIT]  Coimbatore\n",
      "Avinashilingam Institute For Home Science and Higher Education For Women  Coimbatore\n",
      "Karpagam University - [KAHE]  Coimbatore\n",
      "Coimbatore Institute of Engineering and Technology - [CIET]  Coimbatore\n",
      "EASA College of Engineering and Technology - [ECET]  Coimbatore\n",
      "Info Institute of Engineering - [IIE]  Coimbatore\n",
      "KPR Institute of Engineering & Technology - [KPRIET]  Coimbatore\n",
      "Karpagam Institute of Technology  Coimbatore\n",
      "Nehru Institute of Engineering and Technology - [NIET]  Coimbatore\n",
      "PA College of Engineering and Technology - [PACET]  Coimbatore\n",
      "SNS College of Engineering - [SNSCE]  Coimbatore\n",
      "SNS College of Technology - [SNSCT]  Coimbatore\n",
      "Sri Eshwar College of Engineering - [SECE]  Coimbatore\n",
      "Tamilnadu College of Engineering - [TNCE]  Coimbatore\n",
      "Dr. N.G.P Institute of Technology - [DRNPIT]  Coimbatore\n",
      "Jansons Institute of Technology - [JIT]  Coimbatore\n"
     ]
    }
   ],
   "source": [
    "#Tamil Nadu \n",
    "#Coimbatore\n",
    "containerCoi = parsed_pageCoi.find_all('a', {'class':'college_name' })\n",
    "\n",
    "print(len(containerCoi))\n",
    "\n",
    "for tCoi in containerCoi:\n",
    "\n",
    "    detailCoi = tCoi.text\n",
    "    detCoi = detailCoi.split(',')\n",
    "    titleCoi = detCoi[0]\n",
    "    locCoi = detCoi[1]\n",
    "    print(titleCoi, locCoi)\n",
    "    \n",
    "    f.write(titleCoi + \",\" + \"Tamil Nadu\" + \",\" + locCoi + \"\\n\")\n"
   ]
  },
  {
   "cell_type": "markdown",
   "metadata": {},
   "source": [
    "### Kanyakumari"
   ]
  },
  {
   "cell_type": "code",
   "execution_count": 29,
   "metadata": {
    "scrolled": true
   },
   "outputs": [
    {
     "name": "stdout",
     "output_type": "stream",
     "text": [
      "30\n",
      "Noorul Islam University [NICHE]  Kanyakumari\n",
      "Bethlahem Institute of Engineering  Kanyakumari\n",
      "DMI Engineering College  Kanyakumari\n",
      "Jayamatha Engineering College - [JEC]  Kanyakumari\n",
      "KNSK College of Engineering  Kanyakumari\n",
      "Mar Ephraem College of Engineering and Technology - [MECET]  Kanyakumari\n",
      "Marthandam College of Engineering and Technology - [MACET]  Kanyakumari\n",
      "Narayanaguru College of Engineering - [NGCE]  Kanyakumari\n",
      "Satyam College of Engineering and Technology - [SCET]  Kanyakumari\n",
      "Shivaji College of Engineering and Technology  Kanyakumari\n",
      "Amrita College of Engineering and Technology - [ACET]  Kanyakumari\n",
      "Udaya School of Engineering - [USE]  Kanyakumari\n",
      "Annai Vailankanni College of Engineering - [AVCE]  Kanyakumari\n",
      "Arunachala College of Engineering for Women - [ACEW]  Kanyakumari\n",
      "CSI Institute of Technology  Kanyakumari\n",
      "Immanuel Araser JJ College of Engineering - [IAJJCE]  Kanyakumari\n",
      "Lord Jegannath College of Engineering and Technology - [LJCET]  Kanyakumari\n",
      "Ponjesly College of Engineering  Kanyakumari\n",
      "Rajas International Institute of Technology for Women  Kanyakumari\n",
      "Tamizhan College of Engineering and Technology - [TCET]  Kanyakumari\n",
      "Vins Christian College of Engineering - [VCCE]  Kanyakumari\n",
      "James College of Engineering and Technology  Kanyakumari\n",
      "University College of Engineering  Anna University - [UCEN]\n",
      "PSN Institutue of Technology - [PSNIT]  Kanyakumari\n",
      "Excel Business School  Kanyakumari\n",
      "Maria College of Engineering and Technology - [MCET]  Kanyakumari\n",
      "Rohini College of Engineering and Technology - [RCET]  Kanyakumari\n",
      "MET Engineering College  Kanyakumari\n",
      "Lourdes Mount College of Engineering and Technology - [LMCET]  Kanyakumari\n",
      "Sivaji College of Engineering and Technology - [SCET]  Kanyakumari\n"
     ]
    }
   ],
   "source": [
    "#Tamil Nadu\n",
    "#Kanyakumari\n",
    "containerKan = parsed_pageKan.find_all('a', {'class':'college_name' })\n",
    "\n",
    "print(len(containerKan))\n",
    "\n",
    "for tKan in containerKan:\n",
    "\n",
    "    detailKan = tKan.text\n",
    "    detKan = detailKan.split(',')\n",
    "    titleKan = detKan[0]\n",
    "    locKan = detKan[1]\n",
    "    print(titleKan, locKan)\n",
    "    \n",
    "    f.write(titleKan + \",\" + \"Tamil Nadu\" + \",\" + locKan + \"\\n\")\n"
   ]
  },
  {
   "cell_type": "markdown",
   "metadata": {},
   "source": [
    "### Salem"
   ]
  },
  {
   "cell_type": "code",
   "execution_count": 30,
   "metadata": {},
   "outputs": [
    {
     "name": "stdout",
     "output_type": "stream",
     "text": [
      "28\n",
      "Vinayaka Missions University - [VMU]  Salem\n",
      "Government College of Engineering - [GCE]  Salem\n",
      "Sona College of Technology  Salem\n",
      "AVS Engineering College - [AVSEC]  Salem\n",
      "Bharathiyar Institute of Engineering for Women - [BIEW]  Salem\n",
      "Tagore Institute of Engineering and Technology - [TAGOREIET]  Salem\n",
      "The Kavery  College of Engineering - [KCE]  Salem\n",
      "VSA School of Engineering and School of Management  Salem\n",
      "Narasu's Sarathy Institute of Technology - [NSIT]  Salem\n",
      "Salem College of Engineering and Technology - [SCET]  Salem\n",
      "Knowledge Institute of Technology - [KIOT]  Salem\n",
      "Periyar University  Salem\n",
      "Salem Sowdeswari College - [SSC]  Salem\n",
      "Dhirajlal Gandhi College of Technology  Salem\n",
      "Sri Shanmugha College of Engineering and Technology - [SSCET]  Salem\n",
      "Mahendra College of Engineering  Salem\n",
      "AVS Technical Campus  Salem\n",
      "Annapoorana Engineering College - [ACE]  Salem\n",
      "SRS College of Engineering and Technology - [SRSCET]  Salem\n",
      "Vinayaka Mission Kirupananda Variyar Engineering College - [VMKVEC]  Salem\n",
      "Periyar University  Periyar Institute of Distance Education - [PRIDE]\n",
      "Vinayaka Missions University  Directorate of Distance Education - [DDE]\n",
      "Ganesh College of Engineering - [GCE]  Salem\n",
      "Shree Sathyam College of Engineering and\r\n",
      "Technology  Salem\n",
      "The Kavery Engineering College - [TKEC]  Salem\n",
      "Faculty of Engineering and Technology  Vinayaka Mission University\n",
      "Spectrum College of Technology - [SCT]  Salem\n",
      "Indian Institute of Handloom Technology - [IIHT]  Salem\n"
     ]
    }
   ],
   "source": [
    "#Tamil Nadu\n",
    "#Salem\n",
    "containerSal = parsed_pageSal.find_all('a', {'class':'college_name' })\n",
    "\n",
    "print(len(containerSal))\n",
    "\n",
    "for tSal in containerSal:\n",
    "\n",
    "    detailSal = tSal.text\n",
    "    detSal = detailSal.split(',')\n",
    "    titleSal = detSal[0]\n",
    "    locSal = detSal[1]\n",
    "    print(titleSal, locSal)\n",
    "    \n",
    "    f.write(titleSal + \",\" + \"Tamil Nadu\" + \",\" + locSal + \"\\n\")\n"
   ]
  },
  {
   "cell_type": "markdown",
   "metadata": {},
   "source": [
    "### Kanchipuram"
   ]
  },
  {
   "cell_type": "code",
   "execution_count": 31,
   "metadata": {},
   "outputs": [
    {
     "name": "stdout",
     "output_type": "stream",
     "text": [
      "24\n",
      "SRM Engineering College  Kanchipuram\n",
      "Valliammai Engineering college -[VEC]  Kanchipuram\n",
      "Sri Chandrasekharendra Saraswathi Viswa Mahavidyalaya - [SCSVMV University]  Kanchipuram\n",
      "Adhiparasakthi Engineering College - [APEC]  Kanchipuram\n",
      "Lord Venkateshwaraa Engineering College  Kanchipuram\n",
      "Thirumalai Engineering College - [TEC]  Kanchipuram\n",
      "ACT College of Engineering and Technology  Kanchipuram\n",
      "Adhi College of Engineering and Technology - [ACET]  Kanchipuram\n",
      "Aksheyaa College of Engineering  Kanchipuram\n",
      "Asan Memorial College of Engineering and Technology - [AMCET]  Kanchipuram\n",
      "Kings Engineering College - [KEC]  Kanchipuram\n",
      "Rajiv Gandhi College of Engineering - [RGCE]  Kanchipuram\n",
      "Pallavan College of Engineering - [PCE]  Kanchipuram\n",
      "SRM University Kattankulathur Campus - [SRM]  Kanchipuram\n",
      "Aarupadai Veedu Institute of Technology - [AVIT]  Kanchipuram\n",
      "Sri Venkateswara College of Engineering - [SVCE]  Kanchipuram\n",
      "PT Lee Chengalvaraya Naicker College of Engineering and Technology   Kanchipuram\n",
      "Vi Institute of Technology - [VIIT]  Kanchipuram\n",
      "Jei Mathaajee College of Engineering - [JMCE]  Kanchipuram\n",
      "Jeppiaar Institute of Technology - [JIT]  Kanchipuram\n",
      "Pallava Raja College of Engineering  - [PRCE]  Kanchipuram\n",
      "Anna University  College of Engineering  - [UCEK]\n",
      "Annai Veilankanni’s College of Engineering - [AVCE]  Kanchipuram\n",
      "St. Joseph College Of Engineering  Kanchipuram\n"
     ]
    }
   ],
   "source": [
    "#Tamil Nadu \n",
    "#Kanchipuran\n",
    "containerKanc = parsed_pageKanc.find_all('a', {'class':'college_name' })\n",
    "\n",
    "print(len(containerKanc))\n",
    "\n",
    "for tKanc in containerKanc:\n",
    "\n",
    "    detailKanc = tKanc.text\n",
    "    detKanc = detailKanc.split(',')\n",
    "    titleKanc = detKanc[0]\n",
    "    locKanc = detKanc[1]\n",
    "    print(titleKanc, locKanc)\n",
    "    \n",
    "    f.write(titleKanc + \",\" + \"Tamil Nadu\" + \",\" + locKanc + \"\\n\")\n"
   ]
  },
  {
   "cell_type": "markdown",
   "metadata": {},
   "source": [
    "### Thanjavur"
   ]
  },
  {
   "cell_type": "code",
   "execution_count": 32,
   "metadata": {},
   "outputs": [
    {
     "name": "stdout",
     "output_type": "stream",
     "text": [
      "20\n",
      "SASTRA University  Thanjavur\n",
      "Ponnaiyah Ramajayam Institute of Science and Technology University - [PRIST University]  Thanjavur\n",
      "Periyar Maniammai University Faculty Of Engineering And Technology (FET)  Thanjavur\n",
      "St Joseph's College of Engineering and Technology  Thanjavur\n",
      "Annai College of Engineering and Technology - [ACET]  Thanjavur\n",
      "As-Salam College of Engineering and Technology  Thanjavur\n",
      "PET Engineering College  Thanjavur\n",
      "Parisutham Institute of Technology and  Science - [PITS]  Thanjavur\n",
      "AVVM Sri Pushpam College  Thanjavur\n",
      "Periyar Maniammai University - [PMU]  Thanjavur\n",
      "Indian Institute of Food Processing Technology - [IIFPT]  Thanjavur\n",
      "Ponnaiyah Ramajayam Engineering College - [PREC]  Thanjavur\n",
      "SMR East Coast College of Engineering and Technology  Thanjavur\n",
      "Tamil University  Thanjavur\n",
      "PR Engineering College - [PREC]  Thanjavur\n",
      "Vandayar Engineering College - [VEC]  Thanjavur\n",
      "Bon Secours College for Women  Thanjavur\n",
      "Government College Of Engineering Sengipatti  Thanjavur\n",
      "Star Lion College of Engineering and Technology - [SLCET]  Thanjavur\n",
      "K.S.K. College of Engineering and Technology - [KSKCET]  Thanjavur\n"
     ]
    }
   ],
   "source": [
    "#Tamil Nadu\n",
    "#Thanjavur\n",
    "containerTha = parsed_pageTha.find_all('a', {'class':'college_name' })\n",
    "\n",
    "print(len(containerTha))\n",
    "\n",
    "for tTha in containerTha:\n",
    "\n",
    "    detailTha = tTha.text\n",
    "    detTha = detailTha.split(',')\n",
    "    titleTha = detTha[0]\n",
    "    locTha = detTha[1]\n",
    "    print(titleTha, locTha)\n",
    "    \n",
    "    f.write(titleTha + \",\" + \"Tamil Nadu\" + \",\" + locTha + \"\\n\")\n"
   ]
  },
  {
   "cell_type": "markdown",
   "metadata": {},
   "source": [
    "### Vellore"
   ]
  },
  {
   "cell_type": "code",
   "execution_count": 33,
   "metadata": {},
   "outputs": [
    {
     "name": "stdout",
     "output_type": "stream",
     "text": [
      "20\n",
      "Vellore Institute of Technology - [VIT University]  Vellore\n",
      "Thanthai Periyar Government Institute of Technology - [TPGIT]  Vellore\n",
      "C Abdul Hakeem College of Engineering and Technology - [CAHCET]  Vellore\n",
      "Bharathidasan Engineering College - [BEC]  Vellore\n",
      "Global Institute of Engineering and Technology - [GIT]  Vellore\n",
      "Ranippettai Engineering College-[REC]  Vellore\n",
      "Saraswathi Velu College of Engineering  Vellore\n",
      "Sri Nandhanam College of Engineering and Technology - [SNCET]  Vellore\n",
      "Cape Institute of Technology - [CAPE]  Vellore\n",
      "Ganadipathy Tulsi's Jain Engineering College - [GTEC]  Vellore\n",
      "Kingston Engineering College  Vellore\n",
      "Priyadarshini Engineering College  Vellore\n",
      "Sri Krishna College of Engineering - [SKCE]  Vellore\n",
      "Sri Nandhanam Maritime Academy - [SNMA]  Vellore\n",
      "Annai Mira College of Engineering and Technology  Vellore\n",
      "GGR College of Engineering  Vellore\n",
      "Sree Krishna College of Engineering - [SKCE]  Vellore\n",
      "Thiruvalluvar University - [TU]  Vellore\n",
      "Adhiparasakthi College of Engineering Arcot - [APCE]  Vellore\n",
      "Shri Sapthagiri Institute of Technology  Vellore\n"
     ]
    }
   ],
   "source": [
    "#Tamil Nadu\n",
    "#Vellore\n",
    "containerVel = parsed_pageVel.find_all('a', {'class':'college_name' })\n",
    "\n",
    "print(len(containerVel))\n",
    "\n",
    "for tVel in containerVel:\n",
    "\n",
    "    detailVel = tVel.text\n",
    "    detVel = detailVel.split(',')\n",
    "    titleVel = detVel[0]\n",
    "    locVel = detVel[1]\n",
    "    print(titleVel, locVel)\n",
    "    \n",
    "    f.write(titleVel + \",\" + \"Tamil Nadu\" + \",\" + locVel + \"\\n\")\n"
   ]
  },
  {
   "cell_type": "markdown",
   "metadata": {},
   "source": [
    "## Delhi NCR"
   ]
  },
  {
   "cell_type": "code",
   "execution_count": 34,
   "metadata": {},
   "outputs": [],
   "source": [
    "new_urlDel = 'https://collegedunia.com/engineering/delhi-ncr-colleges?city_id=125'"
   ]
  },
  {
   "cell_type": "code",
   "execution_count": 35,
   "metadata": {},
   "outputs": [],
   "source": [
    "#Delhi\n",
    "ucDel = uo(new_urlDel)\n",
    "raw_pageDel = ucDel.read()\n",
    "ucDel.close()"
   ]
  },
  {
   "cell_type": "code",
   "execution_count": 36,
   "metadata": {},
   "outputs": [],
   "source": [
    "parsed_pageDel = BS(raw_pageDel, \"html.parser\")"
   ]
  },
  {
   "cell_type": "code",
   "execution_count": 37,
   "metadata": {},
   "outputs": [
    {
     "name": "stdout",
     "output_type": "stream",
     "text": [
      "30\n",
      "Indian Institute of Technology - [IIT]  New Delhi\n",
      "Delhi Technological University - [DTU]  New Delhi\n",
      "Netaji Subhas Institute of Technology - [NSIT]  New Delhi\n",
      "National Institute of Technology - [NIT]  New Delhi\n",
      "Ambedkar Institute of Advanced Communication Technologies and Research - [AIACTR]  New Delhi\n",
      "Bhagwan Parshuram Institute of Technology - [BPIT]  New Delhi\n",
      "Guru Premsukh Memorial College of Engineering - [GPMCE]  New Delhi\n",
      "HMR Institute of Technology & Management - [HMRITM]  New Delhi\n",
      "Dr. Akhilesh Das Gupta Institute of Technology & Management - [ADGITM]  New Delhi\n",
      "TERI University  New Delhi\n",
      "Jamia Hamdard University  New Delhi\n",
      "University School of Information  Communication  and Technology - [USICT]\n",
      "Indira Gandhi Delhi Technical University For Women -[IGDTUW]  New Delhi\n",
      "Maharaja Agrasen Institute of Technology - [MAIT]  New Delhi\n",
      "Maharaja Surajmal Institute of Technology - [MSIT]  New Delhi\n",
      "Indraprastha Institute of Information Technology - [IIITD]  New Delhi\n",
      "Bharati Vidyapeeth's College of Engineering - [BVCOE]  New Delhi\n",
      "Ch. B.P. Government Engineering College  New Delhi\n",
      "G.B. Pant Govt. Engineering College  New Delhi\n",
      "University School of Chemical Technology  Guru Gobind Singh Indraprastha University - [USCT]\n",
      "Amity School of Engineering & Technology  New Delhi\n",
      "Guru Gobind Singh Indraprastha University - [GGSIPU]  New Delhi\n",
      "Jamia Millia Islamia University-[JMI]  New Delhi\n",
      "Guru Tegh Bahadur Institute of Technology - [GTBIT]  New Delhi\n",
      "Shaheed Sukhdev College of Business Studies - [SSCBS]  New Delhi\n",
      "Indian Agricultural Research Institute - [IARI]  New Delhi\n",
      "Miranda House College  New Delhi\n",
      "Jawaharlal Nehru University - [JNU]  New Delhi\n",
      "Indian Agricultural Statistics Research Institute - [IASRI]  New Delhi\n",
      "University of Delhi - [DU]  New Delhi\n"
     ]
    }
   ],
   "source": [
    "#Delhi\n",
    "containerDel = parsed_pageDel.find_all('a', {'class':'college_name' })\n",
    "\n",
    "print(len(containerDel))\n",
    "\n",
    "for tDel in containerDel:\n",
    "\n",
    "    detailDel = tDel.text\n",
    "    detDel = detailDel.split(',')\n",
    "    titleDel = detDel[0]\n",
    "    locDel = detDel[1]\n",
    "    print(titleDel, locDel)\n",
    "    \n",
    "    f.write(titleDel + \",\" + \"Delhi\" + \",\" + locDel + \"\\n\")\n"
   ]
  },
  {
   "cell_type": "markdown",
   "metadata": {},
   "source": [
    "## Uttar Pradesh Links"
   ]
  },
  {
   "cell_type": "code",
   "execution_count": 38,
   "metadata": {},
   "outputs": [],
   "source": [
    "new_urlLuc = 'https://collegedunia.com/engineering/lucknow-colleges'\n",
    "new_urlMee = 'https://collegedunia.com/engineering/meerut-colleges'\n",
    "new_urlGha = 'https://collegedunia.com/engineering/ghaziabad-colleges'\n",
    "new_urlKanp = 'https://collegedunia.com/engineering/kanpur-colleges'\n",
    "new_urlAll = 'https://collegedunia.com/engineering/allahabad-colleges'"
   ]
  },
  {
   "cell_type": "code",
   "execution_count": 39,
   "metadata": {},
   "outputs": [],
   "source": [
    "#Lucknow\n",
    "ucLuc = uo(new_urlLuc)\n",
    "raw_pageLuc = ucLuc.read()\n",
    "ucLuc.close()\n",
    "#Meerut\n",
    "ucMee = uo(new_urlMee)\n",
    "raw_pageMee = ucMee.read()\n",
    "ucMee.close()\n",
    "#Ghaziabad\n",
    "ucGha = uo(new_urlGha)\n",
    "raw_pageGha = ucGha.read()\n",
    "ucGha.close()\n",
    "#Kanpur\n",
    "ucKanp = uo(new_urlKanp)\n",
    "raw_pageKanp = ucKanp.read()\n",
    "ucKanp.close()\n",
    "#Allahabad\n",
    "ucAll = uo(new_urlAll)\n",
    "raw_pageAll = ucAll.read()\n",
    "ucAll.close()"
   ]
  },
  {
   "cell_type": "code",
   "execution_count": 40,
   "metadata": {},
   "outputs": [],
   "source": [
    "parsed_pageLuc = BS(raw_pageLuc, \"html.parser\")\n",
    "parsed_pageMee = BS(raw_pageMee, \"html.parser\")\n",
    "parsed_pageGha = BS(raw_pageGha, \"html.parser\")\n",
    "parsed_pageKanp = BS(raw_pageKanp, \"html.parser\")\n",
    "parsed_pageAll = BS(raw_pageAll, \"html.parser\")"
   ]
  },
  {
   "cell_type": "markdown",
   "metadata": {},
   "source": [
    "### Lucknow"
   ]
  },
  {
   "cell_type": "code",
   "execution_count": 41,
   "metadata": {},
   "outputs": [
    {
     "name": "stdout",
     "output_type": "stream",
     "text": [
      "30\n",
      "BN College of Engineering and Technology - [BNCET]  Lucknow\n",
      "Institute of Engineering and Technology- [IET]  Lucknow\n",
      "Lucknow Model Institute of Technology and Management - [LMITM]  Lucknow\n",
      "MG Institute of Management and Technology - [MGIMT]  Lucknow\n",
      "Shri Ramswaroop Memorial College of Engineering and Management -  [SRMCM]  Lucknow\n",
      "Babu Banarasi Das National Institute of Technology & Management - [BBDNITM]  Lucknow\n",
      "Amity University  Lucknow\n",
      "Dr MC Saxena College of Engineering and Technology - [MCSCET]  Lucknow\n",
      "R.R. Institute of Modern Technology - [RRIMT]  Lucknow\n",
      "Saroj Institute of Technology and Management - [SITM]  Lucknow\n",
      "Babu Sunder Singh Institute of Technology and Management - [BSSITM]  Lucknow\n",
      "SR Institute Of Management and Technology - [SRIMT]  Lucknow\n",
      "Azad Institute of Engineering and Technology - [AIET]  Lucknow\n",
      "Lucknow Institute of Technology - [LIT]  Lucknow\n",
      "SMS Institute of Technology - [SMSIT]  Lucknow\n",
      "Aryavart Institute of Technology and Management - [AITM]  Lucknow\n",
      "Dr M. C. Saxena College of Engineering & Technology - [MCSCET]  Lucknow\n",
      "Rameshwaram Institute of Technology and Management - [RITM]  Lucknow\n",
      "Ansal Institute of Technology and Management - [AITM]  Lucknow\n",
      "Ambalika Institute of Management and Technology - [AIMT]  Lucknow\n",
      "Global Educational & Welfare Society Group of Institutions  Lucknow\n",
      "Maharana Institute of Technology & Science - [MITS]  Lucknow\n",
      "Integral University  Lucknow\n",
      "College of Engineering Sciences & Technology - [CEST]  Lucknow\n",
      "Annie Besant College of Engineering And Management - [ABCEM]  Lucknow\n",
      "National Post Graduate College  Lucknow\n",
      "Babu Banarasi Das University - [BBDU]  Lucknow\n",
      "Saroj Institute of Management and Technology - [SIMT]  Lucknow\n",
      "Shri Ramswaroop Memorial University - [SRMU]  Lucknow\n",
      "University of Lucknow  Lucknow\n"
     ]
    }
   ],
   "source": [
    "#Uttar Pradesh\n",
    "#Lucknow\n",
    "containerLuc = parsed_pageLuc.find_all('a', {'class':'college_name' })\n",
    "\n",
    "print(len(containerLuc))\n",
    "\n",
    "for tLuc in containerLuc:\n",
    "\n",
    "    detailLuc = tLuc.text\n",
    "    detLuc = detailLuc.split(',')\n",
    "    titleLuc = detLuc[0]\n",
    "    locLuc = detLuc[1]\n",
    "    print(titleLuc, locLuc)\n",
    "    \n",
    "    f.write(titleLuc+ \",\" + \"UP\" + \",\" + locLuc + \"\\n\")\n"
   ]
  },
  {
   "cell_type": "markdown",
   "metadata": {},
   "source": [
    "### Meerut"
   ]
  },
  {
   "cell_type": "code",
   "execution_count": 42,
   "metadata": {},
   "outputs": [
    {
     "name": "stdout",
     "output_type": "stream",
     "text": [
      "30\n",
      "Sir Chhotu Ram Institute of Engineering and Technology - [SCRIET]  Meerut\n",
      "Bansal Institute of Engineering and Technology - [BIET]  Meerut\n",
      "Delhi Institute of Engineering and Technology - [DIET]  Meerut\n",
      "Radha Govind Group of Institutions - [RGGI]  Meerut\n",
      "Venkateshwara Institute of Technology - [VIT]  Meerut\n",
      "College of Engineering and Rural Technology - [CERT]  Meerut\n",
      "IIMT Engineering College  Meerut\n",
      "IIMT Institute of Engineering and Technology  Meerut\n",
      "Meerut International Institute of Technology - [MIIT]  Meerut\n",
      "JP Institute of Engineering and Technology - [JPIET]  Meerut\n",
      "Vidya College of Engineering - [VCE]  Meerut\n",
      "Chaudhary Charan Singh University - [CCS]  Meerut\n",
      "Shobhit University  Meerut\n",
      "Meerut Institute of Engineering and Technology - [MIET]  Meerut\n",
      "Bharat Institute of Technology - [BIT]  Meerut\n",
      "Sardar Vallabh Bhai Patel University of Agriculture and Technology  Meerut\n",
      "Swami Vivekanand Subharti University - [SVSU]  Meerut\n",
      "ABSS Institue of Technology  Meerut\n",
      "Dewan V.S. Institute of Engineering & Technology - [DVSIET]  Meerut\n",
      "IAMR College of Engineering  Meerut\n",
      "RISHI  Institute of Engineering and Technology - [RIET]  Meerut\n",
      "Shanti Niketan Group of Institution - [SNGI]  Meerut\n",
      "Shree Bankey Bihari Institutions of Engineering - [SBBIE]  Meerut\n",
      "Shri Ram Institute of Technology - [SRIT]  Meerut\n",
      "ShrinathJi Institute for Technical Education-[SRITECH]  Meerut\n",
      "Shubharti Institute of Technology and Engineering - [SITE]  Meerut\n",
      "Translam Institute of Technology and Management- [TITM]  Meerut\n",
      "Institute of Technology and Management - [ITM]  Meerut\n",
      "Shree Sai College of Education & Technology - [SSCET]  Meerut\n",
      "Panchwati Institute of Engineering & Technology  Meerut\n"
     ]
    }
   ],
   "source": [
    "#Uttar Pradesh\n",
    "#Meerut\n",
    "containerMee = parsed_pageMee.find_all('a', {'class':'college_name' })\n",
    "\n",
    "print(len(containerMee))\n",
    "\n",
    "for tMee in containerMee:\n",
    "\n",
    "    detailMee = tMee.text\n",
    "    detMee = detailMee.split(',')\n",
    "    titleMee = detMee[0]\n",
    "    locMee = detMee[1]\n",
    "    print(titleMee, locMee)\n",
    "    \n",
    "    f.write(titleMee+ \",\" + \"UP\" + \",\" + locMee + \"\\n\")\n"
   ]
  },
  {
   "cell_type": "markdown",
   "metadata": {},
   "source": [
    "### Ghaziabad"
   ]
  },
  {
   "cell_type": "code",
   "execution_count": 43,
   "metadata": {},
   "outputs": [
    {
     "name": "stdout",
     "output_type": "stream",
     "text": [
      "30\n",
      "Ajay Kumar Garg Engineering College - [AKGEC]  Ghaziabad\n",
      "ABES Engineering College  Ghaziabad\n",
      "IMS Engineering College - [IMSEC]  Ghaziabad\n",
      "Raj Kumar Goel Institute of Technology - [RKGIT]  Ghaziabad\n",
      "KIET Group of Institutions - [KIET]  Ghaziabad\n",
      "Ideal Institute of Technology  Ghaziabad\n",
      "Inderprastha Engineering College - [IPEC]  Ghaziabad\n",
      "Krishna Engineering College - [KEC]  Ghaziabad\n",
      "ABES Institute of Technology - [ABESIT]  Ghaziabad\n",
      "ACME College of Engineering - [ACME]  Ghaziabad\n",
      "H.R. Group of Institutions - [HRIT]  Ghaziabad\n",
      "HI-Tech Institute of Engineering and Technology - [HIET]  Ghaziabad\n",
      "Modinagar Institute of Technology - [MIT]  Ghaziabad\n",
      "RD Engineering College  Ghaziabad\n",
      "Saraswati Institute of Engineering and Technology - [SIET]  Ghaziabad\n",
      "Vivekanand Institute of Technology and Science - [VITS]  Ghaziabad\n",
      "International College of Engineering - [ICE]  Ghaziabad\n",
      "Sanskar Educational Group - [SEG]  Ghaziabad\n",
      "Trident Group of Institutions  Ghaziabad\n",
      "Aryan Institute of Technology - [AIT]  Ghaziabad\n",
      "Babu Banarasi Das Institute of Technology - [BBDIT]  Ghaziabad\n",
      "Bhagwant Institute of Technology - [BIT]  Ghaziabad\n",
      "Lord Krishna College of Engineering - [LKCE]  Ghaziabad\n",
      "Raj Kumar Goel Engineering College - [RKGEC]  Ghaziabad\n",
      "Raj Kumar Goel Institute of Technology & Management - [RKGITM]  Ghaziabad\n",
      "SRM Institute of Management and Technology  SRM University\n",
      "Sunder Deep College of Engineering  Ghaziabad\n",
      "HR Institute of Engineering and Technology - [HRIET]  Ghaziabad\n",
      "Nitra Technical Campus  Ghaziabad\n",
      "RG Institute of Professional Studies  Ghaziabad\n"
     ]
    }
   ],
   "source": [
    "#Uttar Pradesh\n",
    "#Ghaziabad\n",
    "containerGha = parsed_pageGha.find_all('a', {'class':'college_name' })\n",
    "\n",
    "print(len(containerGha))\n",
    "\n",
    "for tGha in containerGha:\n",
    "\n",
    "    detailGha = tGha.text\n",
    "    detGha = detailGha.split(',')\n",
    "    titleGha = detGha[0]\n",
    "    locGha = detGha[1]\n",
    "    print(titleGha, locGha)\n",
    "    \n",
    "    f.write(titleGha+ \",\" + \"UP\" + \",\" + locGha + \"\\n\")\n"
   ]
  },
  {
   "cell_type": "markdown",
   "metadata": {},
   "source": [
    "### Kanpur"
   ]
  },
  {
   "cell_type": "code",
   "execution_count": 44,
   "metadata": {},
   "outputs": [
    {
     "name": "stdout",
     "output_type": "stream",
     "text": [
      "30\n",
      "Indian Institute of Technology - [IIT]  Kanpur\n",
      "Harcourt Butler Technological University - [HBTU]  Kanpur\n",
      "Dr. Ambedkar Institute of Technology for Handicapped - [AITH]  Kanpur\n",
      "University Institute of Engineering and Technology - [UIET]  Kanpur\n",
      "Pranveer Singh Institute of Technology - [PSIT]  Kanpur\n",
      "Allenhouse Institute of Technology  Kanpur\n",
      "Indus Institute of Technology and Management - [IITM]  Kanpur\n",
      "Krishna Girls Engineering College - [KGEC]  Kanpur\n",
      "Vision Institute of Technology - [VIT]  Kanpur\n",
      "Apollo Institute of Technology - [AIT]  Kanpur\n",
      "AXIS Institute of Technology and Management  - [AITM]  Kanpur\n",
      "Kanpur Institute of Technology - [KIT]  Kanpur\n",
      "Maharana Pratap Engineering College - [MPEC]  Kanpur\n",
      "Naraina College of Engineering and Technology - [NCET]  Kanpur\n",
      "Seth Sriniwas Agarwal Institute of Engineering and Technology -[SSAIET]  Kanpur\n",
      "PSIT College of Engineering - [PSIT]  Kanpur\n",
      "Naraina Vidya Peeth Engineering & Management Institute - [NVPEMI]  Kanpur\n",
      "Bhabha Institute of Technology - [BIT]  Kanpur\n",
      "Dayanand Dinanath Institute of Technology - [DDIT]  Kanpur\n",
      "Prabhat Engineering College - [PEC]  Kanpur\n",
      "Vidya Bhavan College for Engineering Technology - [VBCET]  Kanpur\n",
      "Industrial and Management Engineering  IIT Kanpur- [IME IIT]\n",
      "Chandra Shekhar Azad University of Agriculture and Technology -[CSAUA&T]  Kanpur\n",
      "CSJM Kanpur University - [CSJMU]  Kanpur\n",
      "Deen Dayal Upadhyaya Institute of Management and Higher Studies  Kanpur\n",
      "Uttar Pradesh Textile Technology Institute - [UPTTI]  Kanpur\n",
      "Axis Colleges  Kanpur\n",
      "Rama University  Kanpur\n",
      "Rama Institute of Business Studies - [RIBS]  Kanpur\n",
      "Rama Institute of Engineering & Technology  Kanpur\n"
     ]
    }
   ],
   "source": [
    "#Uttar Pradesh\n",
    "#Kanpur\n",
    "containerKanp = parsed_pageKanp.find_all('a', {'class':'college_name' })\n",
    "\n",
    "print(len(containerKanp))\n",
    "\n",
    "for tKanp in containerKanp:\n",
    "\n",
    "    detailKanp = tKanp.text\n",
    "    detKanp = detailKanp.split(',')\n",
    "    titleKanp = detKanp[0]\n",
    "    locKanp = detKanp[1]\n",
    "    print(titleKanp, locKanp)\n",
    "    \n",
    "    f.write(titleKanp+ \",\" + \"UP\" + \",\" + locKanp + \"\\n\")\n"
   ]
  },
  {
   "cell_type": "markdown",
   "metadata": {},
   "source": [
    "### Allahabad"
   ]
  },
  {
   "cell_type": "code",
   "execution_count": 45,
   "metadata": {},
   "outputs": [
    {
     "name": "stdout",
     "output_type": "stream",
     "text": [
      "27\n",
      "Indian Institute of Information Technology - [IIIT]  Allahabad\n",
      "Motilal Nehru National Institute of Technology - [MNNIT]  Allahabad\n",
      "Institute of Engineering and Rural Technology - [IERT]  Allahabad\n",
      "J.K. Institute of Applied Physics and Technology  Allahabad\n",
      "Sam Higginbottom University of Agriculture Technology and Sciences - [SHUATS]  Allahabad\n",
      "United College of Engineering & Research - [UCER]  Allahabad\n",
      "LDC Institute of Technical Studies  Allahabad\n",
      "BBS College of Engineering and Technology - [BBSCET]  Allahabad\n",
      "Devprayag Institute of Technical Studies - [DITS]  Allahabad\n",
      "SP Memorial Institute of Technology - [SPMIT]  Allahabad\n",
      "Shambhunath Institute of Engineering and Technology - [SIET]  Allahabad\n",
      "United Institute of Technology  Allahabad\n",
      "Allahabad Institute of Engineering & Technology - [AIET]  Allahabad\n",
      "Vindhya Institute of Technology and Science - [VITS]  Allahabad\n",
      "University of Allahabad  Allahabad\n",
      "Ayodhya Prasad Management Institute and Technology - [APMIT]  Allahabad\n",
      "HMFA Memorial Institute of Engineering and Technology  Allahabad\n",
      "Nehru Gram Bharati University - [NGBU]  Allahabad\n",
      "Birla Institute of Technology - [BIT]  Allahabad\n",
      "United Group of Institutions - [UGI]  Allahabad\n",
      "United College of Engineering & Management  Allahabad\n",
      "Chhatrpati Shahu Ji Maharaj Group of Institutions - [CSMGOI]  Allahabad\n",
      "Infinity Institute of Technology  Allahabad\n",
      "Warner College of Dairy Technology  Allahabad\n",
      "Shepherd Institute of Engineering and Technology - [SIET]  Allahabad\n",
      "Vaugh Institute of Agricultural Engineering And Technology - [VIAET]  Allahabad\n",
      "Allahabad State University  Allahabad\n"
     ]
    }
   ],
   "source": [
    "#Uttar Pradesh\n",
    "#Allahabad\n",
    "containerAll = parsed_pageAll.find_all('a', {'class':'college_name' })\n",
    "\n",
    "print(len(containerAll))\n",
    "\n",
    "for tAll in containerAll:\n",
    "\n",
    "    detailAll = tAll.text\n",
    "    detAll = detailAll.split(',')\n",
    "    titleAll = detAll[0]\n",
    "    locAll = detAll[1]\n",
    "    print(titleAll, locAll)\n",
    "    \n",
    "    f.write(titleAll+ \",\" + \"UP\" + \",\" + locAll + \"\\n\")\n"
   ]
  },
  {
   "cell_type": "markdown",
   "metadata": {},
   "source": [
    "## Andhra Pradesh Links"
   ]
  },
  {
   "cell_type": "code",
   "execution_count": 46,
   "metadata": {},
   "outputs": [],
   "source": [
    "new_urlGun = 'https://collegedunia.com/engineering/guntur-colleges'\n",
    "new_urlVis = 'https://collegedunia.com/engineering/visakhapatnam-colleges'\n",
    "new_urlTir = 'https://collegedunia.com/engineering/tirupati-colleges'\n",
    "new_urlNel = 'https://collegedunia.com/engineering/nellore-colleges'\n",
    "new_urlKad = 'https://collegedunia.com/engineering/kadapa-colleges'\n",
    "new_urlEas = 'https://collegedunia.com/engineering/east-godavari-colleges'"
   ]
  },
  {
   "cell_type": "code",
   "execution_count": 47,
   "metadata": {},
   "outputs": [],
   "source": [
    "#Guntur\n",
    "ucGun = uo(new_urlGun)\n",
    "raw_pageGun = ucGun.read()\n",
    "ucGun.close()\n",
    "#Vishakhapattanam\n",
    "ucVis = uo(new_urlVis)\n",
    "raw_pageVis = ucVis.read()\n",
    "ucVis.close()\n",
    "#Tirupati\n",
    "ucTir = uo(new_urlTir)\n",
    "raw_pageTir = ucTir.read()\n",
    "ucTir.close()\n",
    "#Nellore\n",
    "ucNel = uo(new_urlNel)\n",
    "raw_pageNel = ucNel.read()\n",
    "ucNel.close()\n",
    "#Kadapa\n",
    "ucKad = uo(new_urlKad)\n",
    "raw_pageKad = ucKad.read()\n",
    "ucKad.close()\n",
    "#East Godavari\n",
    "ucEas = uo(new_urlEas)\n",
    "raw_pageEas = ucEas.read()\n",
    "ucEas.close()"
   ]
  },
  {
   "cell_type": "code",
   "execution_count": 48,
   "metadata": {},
   "outputs": [],
   "source": [
    "parsed_pageGun = BS(raw_pageGun, \"html.parser\")\n",
    "parsed_pageVis = BS(raw_pageVis, \"html.parser\")\n",
    "parsed_pageTir = BS(raw_pageTir, \"html.parser\")\n",
    "parsed_pageNel = BS(raw_pageNel, \"html.parser\")\n",
    "parsed_pageKad = BS(raw_pageKad, \"html.parser\")\n",
    "parsed_pageEas = BS(raw_pageEas, \"html.parser\")"
   ]
  },
  {
   "cell_type": "markdown",
   "metadata": {},
   "source": [
    "### Guntur"
   ]
  },
  {
   "cell_type": "code",
   "execution_count": 49,
   "metadata": {},
   "outputs": [
    {
     "name": "stdout",
     "output_type": "stream",
     "text": [
      "30\n",
      "RVR and JC College of Engineering  Guntur\n",
      "K L University - [KLU]  Guntur\n",
      "Vasireddy Venkatadri Institute of Technology - [VVIT]  Guntur\n",
      "Bapatla Engineering College - [BEC]  Guntur\n",
      "Vignan's Lara Institute of Technology & Science - [VLITS]  Guntur\n",
      "KKR & KSR Institute of Technology and Sciences - [KITS]  Guntur\n",
      "Velaga Nageswara Rao College of Engineering - [VNRCE]  Guntur\n",
      "Vignan's Nirula Institute of Technology and Science for Women -[VNIW]  Guntur\n",
      "AM Reddy Memorial College of Engineering and Technology  Guntur\n",
      "G V R & S College of Engineering & Technology - [GVR&S]  Guntur\n",
      "Narasaraopeta Institute of Technology - [NIT]  Guntur\n",
      "Newton's  Institute of Engineering - [NIE]  Guntur\n",
      "Amara Institute of Engineering and Technology - [AIET]  Guntur\n",
      "Chalapathi Institute of Engineering and Technology - [CIET]  Guntur\n",
      "Guntur Engineering College - [GEC]  Guntur\n",
      "Krishnaveni Engineering College for Women - [KECW]  Guntur\n",
      "Nalanda Institute of Engineering and Technology - [NIET]  Guntur\n",
      "Sri Mittapalli College of Engineering  Guntur\n",
      "Sri Mittapalli Institute of Technology for Women - [SMITW]  Guntur\n",
      "Tenali Engineering College - [TEC]  Guntur\n",
      "Tirumala Engineering College  Guntur\n",
      "Don Bosco Institute of Technology and Science  Guntur\n",
      "Malineni Perumallu Educational Society's Group of Institutions (Integrated Campus)  Guntur\n",
      "Priyadarshini Institute of Technology and Science for Women - [PITW]  Guntur\n",
      "Universal College of Engineering and Technology - [UCET]  Guntur\n",
      "Newton's Institute of Science and Technology - [NIST]  Guntur\n",
      "Acharya Nagarjuna University - [ANU]  Guntur\n",
      "Sri Chundi Ranganayakulu Engineering College - [SCREC]  Guntur\n",
      "Sri Subbaraya & Narayana College - [SSNC]  Guntur\n",
      "Acharya NG Ranga Agricultural University  Agricultural College Bapatla\n"
     ]
    }
   ],
   "source": [
    "#Andhra Pradesh\n",
    "#Guntur\n",
    "containerGun = parsed_pageGun.find_all('a', {'class':'college_name' })\n",
    "\n",
    "print(len(containerGun))\n",
    "\n",
    "for tGun in containerGun:\n",
    "\n",
    "    detailGun = tGun.text\n",
    "    detGun = detailGun.split(',')\n",
    "    titleGun = detGun[0]\n",
    "    locGun = detGun[1]\n",
    "    print(titleGun, locGun)\n",
    "    \n",
    "    f.write(titleGun+ \",\" + \"AP\" + \",\" + locGun + \"\\n\")\n"
   ]
  },
  {
   "cell_type": "markdown",
   "metadata": {},
   "source": [
    "### Vishakhapattanam"
   ]
  },
  {
   "cell_type": "code",
   "execution_count": 51,
   "metadata": {},
   "outputs": [
    {
     "name": "stdout",
     "output_type": "stream",
     "text": [
      "30\n",
      "Andhra University  College of Engineering - [AUCE]\n",
      "Anil Neerukonda Institute of Technology & Sciences - [ANITS]  Visakhapatnam\n",
      "GITAM Institute of Technology - [GIT]  Visakhapatnam\n",
      "Gayatri Vidya Parishad College of Engineering - [GVP]  Visakhapatnam\n",
      "Andhra University - [AU]  Visakhapatnam\n",
      "Andhra University College of Engineering for Women - [AUCEW]  Visakhapatnam\n",
      "Pydah College of Engineering and Technology  Visakhapatnam\n",
      "Raghu Engineering College - [REC]  Visakhapatnam\n",
      "Vignan's Institute of Information Technology - [VIIT]  Visakhapatnam\n",
      "Gayatri Vidya Parishad College of Engineering For Women - [GVPW]  Visakhapatnam\n",
      "Avanthi Institute of Engineering and Technology - [AIET]  Visakhapatnam\n",
      "Chaitanya Engineering College - [CEC]  Visakhapatnam\n",
      "Dadi Institute of Engineering and Technology - [DIET]  Visakhapatnam\n",
      "Kaushik College of Engineering  Visakhapatnam\n",
      "Raghu Institute of Technology - [RIT]  Visakhapatnam\n",
      "Sanketika Vidya Parishad Engineering College  Visakhapatnam\n",
      "Viswanadha institute of Technology and Management - [VITAM]  Visakhapatnam\n",
      "Al-Ameer College of Engineering and Information Technology  Visakhapatnam\n",
      "Vizag Institute of Technology - [VIZB]  Visakhapatnam\n",
      "VITS Group of Institutions Faculty of Engineering and Technology  Visakhapatnam\n",
      "Sanketika Institute of Technology and Management - [SITAM]  Visakhapatnam\n",
      "Indo American Institutions Technical Campus - [IAITC]  Visakhapatnam\n",
      "Wellfare Institute of Science Technology and Management - [WISTM]  Visakhapatnam\n",
      "GITAM  Visakhapatnam\n",
      "Dr. Lankapalli Bullayya College  Visakhapatnam\n",
      "BABA Institute of Technology and Sciences - [BITS-VIZAG]  Visakhapatnam\n",
      "GITAM Institute of Science  Visakhapatnam\n",
      "Indo American School of Engineering  Visakhapatnam\n",
      "Invotech Precision Engineers  Visakhapatnam\n",
      "Andhra University  College of Science & Technology\n"
     ]
    }
   ],
   "source": [
    "#Andhra Pradesh\n",
    "#Vishakhapattanam\n",
    "containerVis = parsed_pageVis.find_all('a', {'class':'college_name' })\n",
    "\n",
    "print(len(containerVis))\n",
    "\n",
    "for tVis in containerVis:\n",
    "\n",
    "    detailVis = tVis.text\n",
    "    detVis = detailVis.split(',')\n",
    "    titleVis = detVis[0]\n",
    "    locVis = detVis[1]\n",
    "    print(titleVis, locVis)\n",
    "    \n",
    "    f.write(titleVis+ \",\" + \"AP\" + \",\" + locVis + \"\\n\")\n"
   ]
  },
  {
   "cell_type": "markdown",
   "metadata": {},
   "source": [
    "### Tirupati"
   ]
  },
  {
   "cell_type": "code",
   "execution_count": 52,
   "metadata": {},
   "outputs": [
    {
     "name": "stdout",
     "output_type": "stream",
     "text": [
      "24\n",
      "Sree Vidyanikethan Engineering College - [SVEC]  Tirupati\n",
      "Sri Venkateswara College of Engineering - [SVCE]  Tirupati\n",
      "Sri Venkateswara University - [SVU]  Tirupati\n",
      "Chadalawada Ramanamma Engineering College - [CREC]  Tirupati\n",
      "Sri Venkateswara Engineering College for Women - [SVEW]  Tirupati\n",
      "Yogananda Institute of Technology and Science - [YITS]  Tirupati\n",
      "Annamacharya Institute of Technology and Sciences - [AITS]  Tirupati\n",
      "Shree Institute of Technical Education - [SITE]  Tirupati\n",
      "Sree Rama Engineering College - [SREC]  Tirupati\n",
      "Swetha Institute of Technology and Science - [SITS]  Tirupati\n",
      "KMM Institute of Technology and Science - [KMMITS]  Tirupati\n",
      "Vaishnavi Institute of Technology - [VITT]  Tirupati\n",
      "Siddartha Educational Academy Group of Institutions - [SEAT]  Tirupati\n",
      "Shree Rama Educational Society Group of Institutions - [SRES]  Tirupati\n",
      "Priyadarshini Institute of Technology - [PDIT]  Tirupati\n",
      "JB Women's Engineering College - [JBWEC]  Tirupati\n",
      "Sri Venkateswara Veterinary University - [SVVU]  Tirupati\n",
      "Sri Padmavati Mahila Visvavidyalayam - [SPMVV]  Tirupati\n",
      "Sri Kalahasteeswara Institute of Technology - [SKIT]  Tirupati\n",
      "Sree Vidyanikethan Degree College - [SVDC]  Tirupati\n",
      "Sri Venkateswara Institute of Medical Sciences - [SVIMS]  Tirupati\n",
      "Priyadarshini College of Engineering - [PDCE]  Tirupati\n",
      "Indian Institute of Technology - [IITTP]  Tirupati\n",
      "Sri Venkateswara University College of Engineering  Tirupati\n"
     ]
    }
   ],
   "source": [
    "#Andhra Pradesh\n",
    "#Tirupati\n",
    "containerTir = parsed_pageTir.find_all('a', {'class':'college_name' })\n",
    "\n",
    "print(len(containerTir))\n",
    "\n",
    "for tTir in containerTir:\n",
    "\n",
    "    detailTir = tTir.text\n",
    "    detTir = detailTir.split(',')\n",
    "    titleTir = detTir[0]\n",
    "    locTir = detTir[1]\n",
    "    print(titleTir, locTir)\n",
    "    \n",
    "    f.write(titleTir+ \",\" + \"AP\" + \",\" + locTir + \"\\n\")\n"
   ]
  },
  {
   "cell_type": "markdown",
   "metadata": {},
   "source": [
    "### Nellore"
   ]
  },
  {
   "cell_type": "code",
   "execution_count": 53,
   "metadata": {},
   "outputs": [
    {
     "name": "stdout",
     "output_type": "stream",
     "text": [
      "20\n",
      "Audisankara College of Engineering and Technology Gudur - [ASCET]  Nellore\n",
      "Audisankara College of Engineering for Women  Nellore\n",
      "Audisankara Institute of Technology Gudur - [ASIT]  Nellore\n",
      "Gokula Krishna College of Engineering Sullurpet - [GKCE]  Nellore\n",
      "NBKR Institute of Science and Technology Vidyanagar - [NBKRIST]  Nellore\n",
      "Narayana Engineering College Gudur - [NEC]  Nellore\n",
      "PBR Visvodaya Institute of Technology and Science [PBR VITS]  Nellore\n",
      "AVS College of Engineering and Technology  Nellore\n",
      "Ramireddy Subbarami Reddy Engineering College - [RSREC]  Nellore\n",
      "SKR College of Engineering and Technology - [SKRCET]  Nellore\n",
      "Jagan's College of Engineering and Technology - [JIMS]  Nellore\n",
      "Andhra Engineering College - [AEC]  Nellore\n",
      "DBS Institute of Technology -[DBSIT]  Nellore\n",
      "Geethanjali Institute of Science and Technology - [GIST]  Nellore\n",
      "Priyadarshini College of Engineering and Technology - [PCET]  Nellore\n",
      "Narayana Engineering College - [NEC]  Nellore\n",
      "Visvodaya Engineering College  Nellore\n",
      "Mekapati Rajamohan Reddy Institute of Technology & Science - [MERITS]  Nellore\n",
      "Balaji Institute of Engineering and Management Studies - [BEAM]  Nellore\n",
      "Sri Raghavendra Institute of Science & Technology - [SRIST] Vinjamur  Nellore\n"
     ]
    }
   ],
   "source": [
    "#Andhra Pradesh\n",
    "#Nellore\n",
    "containerNel = parsed_pageNel.find_all('a', {'class':'college_name' })\n",
    "\n",
    "print(len(containerNel))\n",
    "\n",
    "for tNel in containerNel:\n",
    "\n",
    "    detailNel = tNel.text\n",
    "    detNel = detailNel.split(',')\n",
    "    titleNel = detNel[0]\n",
    "    locNel = detNel[1]\n",
    "    print(titleNel, locNel)\n",
    "    \n",
    "    f.write(titleNel+ \",\" + \"AP\" + \",\" + locNel + \"\\n\")\n"
   ]
  },
  {
   "cell_type": "markdown",
   "metadata": {},
   "source": [
    "### Kadapa"
   ]
  },
  {
   "cell_type": "code",
   "execution_count": 54,
   "metadata": {},
   "outputs": [
    {
     "name": "stdout",
     "output_type": "stream",
     "text": [
      "18\n",
      "JNTUA College of Engineering - [JNTUCEP]  Kadapa\n",
      "Annamacharya Institute of Technology and Science - [AITS]  Kadapa\n",
      "Kandula Obul Reddy Memorial College of Engineering - [KORMCE]  Kadapa\n",
      "Kandula Sreenivasa Reddy Memorial College of Engineering - [KSRMCE]  Kadapa\n",
      "Vaagdevi Institute of Technology & Science - [VITS]  Kadapa\n",
      "Kandula Lakshumma Memorial College of Engineering for Women - [KLMCEW]  Kadapa\n",
      "Annamacharya Institute of Technology and Sciences  Kadapa\n",
      "Bharath College of Engineering & Technology for Women  Kadapa\n",
      "Sri Sai Institute of Technology and Science - [SSITS]  Kadapa\n",
      "Srinivasa Institute of Technology and Science - [SITS]  Kadapa\n",
      "Gouthami Institute of Technology and Management for Women - [GITAMW]  Kadapa\n",
      "Modugula Kalavathamma Institute of Technology for Women - [MKITW]  Kadapa\n",
      "Chaitanya Bharathi Institute of Technology  Kadapa\n",
      "Yogi Vemana University - [YVU]  Kadapa\n",
      "Rajiv Gandhi University of Knowledge Technologies  RK Valley Idupulapaya Campus - [RGUKT]\n",
      "Acharya college of Engineering - [ACE]  Kadapa\n",
      "Narayanadri Institute of Science & Technology - [NIST]  Kadapa\n",
      "Sri Venkateswara Institute of Science and Technology - [SVIST]  Kadapa\n"
     ]
    }
   ],
   "source": [
    "#Andhra Pradesh\n",
    "#Kadapa\n",
    "containerKad = parsed_pageKad.find_all('a', {'class':'college_name' })\n",
    "\n",
    "print(len(containerKad))\n",
    "\n",
    "for tKad in containerKad:\n",
    "\n",
    "    detailKad = tKad.text\n",
    "    detKad = detailKad.split(',')\n",
    "    titleKad = detKad[0]\n",
    "    locKad = detKad[1]\n",
    "    print(titleKad, locKad)\n",
    "    \n",
    "    f.write(titleKad+ \",\" + \"AP\" + \",\" + locKad + \"\\n\")\n"
   ]
  },
  {
   "cell_type": "markdown",
   "metadata": {},
   "source": [
    "### East Godavari"
   ]
  },
  {
   "cell_type": "code",
   "execution_count": 55,
   "metadata": {},
   "outputs": [
    {
     "name": "stdout",
     "output_type": "stream",
     "text": [
      "18\n",
      "VSM College of Engineering  East Godavari\n",
      "Kakinada Institute of Technology and Science - [KITS]  East Godavari\n",
      "Lenora College of Engineering  East Godavari\n",
      "Pragati Engineering College  East Godavari\n",
      "Aditya Engineering College - [AEC] Surampalem  East Godavari\n",
      "Bonam Venkata Chalamayya Engineering College  East Godavari\n",
      "Aditya College Of Engineering and Technology - [ACET]  East Godavari\n",
      "Amalapuram Institute of Management Sciences and College of Engineering - [AIMSCMS]  East Godavari\n",
      "Bonam Venkata Chalamayya Institute of Technology and Science - [BVCITS]  East Godavari\n",
      "Dr. Paul Raj Engineering College - [DPREC]  East Godavari\n",
      "Prasiddha College of Engineering and Technology  East Godavari\n",
      "Sri Prakash College of Engineering  East Godavari\n",
      "Sri Sai Madhavi Institute of Science and Technology - [SMIST]  East Godavari\n",
      "Srinivasa Institute of Engineering and Technology - [SIET]  East Godavari\n",
      "International School of Technology and Sciences for Women -[ISTS]  East Godavari\n",
      "BVC Institute of Technology & Science  East Godavari\n",
      "Rajamahendri Institute Of Engineering & Technology- \r\n",
      "[RIET]  East Godavari\n",
      "Aditya College Of Engineering  East Godavari\n"
     ]
    }
   ],
   "source": [
    "#Andhra Pradesh\n",
    "#East Godavari\n",
    "containerEas = parsed_pageEas.find_all('a', {'class':'college_name' })\n",
    "\n",
    "print(len(containerEas))\n",
    "\n",
    "for tEas in containerEas:\n",
    "\n",
    "    detailEas = tEas.text\n",
    "    detEas = detailEas.split(',')\n",
    "    titleEas = detEas[0]\n",
    "    locEas = detEas[1]\n",
    "    print(titleEas, locEas)\n",
    "    \n",
    "    f.write(titleEas+ \",\" + \"AP\" + \",\" + locEas + \"\\n\")\n"
   ]
  },
  {
   "cell_type": "markdown",
   "metadata": {},
   "source": [
    "## Telangana Links"
   ]
  },
  {
   "cell_type": "code",
   "execution_count": 58,
   "metadata": {},
   "outputs": [],
   "source": [
    "new_urlHyd = 'https://collegedunia.com/engineering/hyderabad-colleges'\n",
    "new_urlRan = 'https://collegedunia.com/engineering/rangareddi-colleges'\n",
    "new_urlNal = 'https://collegedunia.com/engineering/nalgonda-colleges'\n",
    "new_urlWar = 'https://collegedunia.com/engineering/warangal-colleges'\n",
    "new_urlKha = 'https://collegedunia.com/engineering/khammam-colleges'"
   ]
  },
  {
   "cell_type": "code",
   "execution_count": 59,
   "metadata": {},
   "outputs": [],
   "source": [
    "#Hyderabad\n",
    "ucHyd = uo(new_urlHyd)\n",
    "raw_pageHyd = ucHyd.read()\n",
    "ucHyd.close()\n",
    "#Rangareddi\n",
    "ucRan = uo(new_urlRan)\n",
    "raw_pageRan = ucRan.read()\n",
    "ucRan.close()\n",
    "#Nalgonda\n",
    "ucNal = uo(new_urlNal)\n",
    "raw_pageNal = ucNal.read()\n",
    "ucNal.close()\n",
    "#Warangal\n",
    "ucWar = uo(new_urlWar)\n",
    "raw_pageWar = ucWar.read()\n",
    "ucWar.close()\n",
    "#Khammam\n",
    "ucKha = uo(new_urlKha)\n",
    "raw_pageKha = ucKha.read()\n",
    "ucKha.close()"
   ]
  },
  {
   "cell_type": "code",
   "execution_count": 60,
   "metadata": {},
   "outputs": [],
   "source": [
    "parsed_pageHyd = BS(raw_pageHyd, \"html.parser\")\n",
    "parsed_pageRan = BS(raw_pageRan, \"html.parser\")\n",
    "parsed_pageNal = BS(raw_pageNal, \"html.parser\")\n",
    "parsed_pageWar = BS(raw_pageWar, \"html.parser\")\n",
    "parsed_pageKha = BS(raw_pageKha, \"html.parser\")"
   ]
  },
  {
   "cell_type": "markdown",
   "metadata": {},
   "source": [
    "### Hyderabad"
   ]
  },
  {
   "cell_type": "code",
   "execution_count": 61,
   "metadata": {},
   "outputs": [
    {
     "name": "stdout",
     "output_type": "stream",
     "text": [
      "30\n",
      "International Institute of Information Technology - [IIIT]  Hyderabad\n",
      "Indian Institute of Technology - [IIT]  Hyderabad\n",
      "Osmania University - [OU]  Hyderabad\n",
      "Chaitanya Bharathi Institute of Technology - [CBIT]  Hyderabad\n",
      "Birla Institute of Technology and Science - [BITS]  Hyderabad\n",
      "G Narayanamma Institute of Technology and Science - [GNITS]  Hyderabad\n",
      "Gokaraju Rangaraju Institute of Engineering and Technology [GRIET]  Hyderabad\n",
      "Mahatma Gandhi Institute of Technology - [MGIT]  Hyderabad\n",
      "Sreenidhi Institute of Science and Technology - [SNIST]  Hyderabad\n",
      "University College of Technology  Osmania University\n",
      "Vasavi College of Engineering - [VCE]  Hyderabad\n",
      "Maturi Venkata Subba Rao Engineering College - [MVSREC]  Hyderabad\n",
      "JNTUH College of Engineering  Hyderabad\n",
      "Institute of Aeronautical Engineering - [IARE]  Hyderabad\n",
      "Bhoj Reddy Engineering College for Women  Hyderabad\n",
      "CMR College of Engineering & Technology - [CMRCET] Kandlakoya  Hyderabad\n",
      "Keshav Memorial Institute of Technology - [KMIT]  Hyderabad\n",
      "Mahaveer Institute of Science and Technology- [MIST]\r\n",
      "  Hyderabad\n",
      "Malla Reddy College of Engineering and Technology- [MRCET]  Hyderabad\n",
      "Malla Reddy Engineering College - [MREC]  Hyderabad\n",
      "TKR College of Engineering and Technology - [TKRCET]  Hyderabad\n",
      "Teegala Krishna Reddy Engineering College  Hyderabad\n",
      "Vardhaman College of Engineering - [VCE]  Hyderabad\n",
      "Padmasri Dr. BV Raju Institute of Technology - [BVRIT]  Hyderabad\n",
      "Vidya Jyothi Institute of Technology - [VJIT]  Hyderabad\n",
      "J.B. Institute of Engineering & Technology - [JBIET]  Hyderabad\n",
      "Matrusri Engineering College  Hyderabad\n",
      "Stanley College of Engineering and Technology for Women - [SCETW]  Hyderabad\n",
      "ACE Engineering College - [ACEEC]  Hyderabad\n",
      "Avanthi Institute of Engineering and Technology - [AIET]  Hyderabad\n"
     ]
    }
   ],
   "source": [
    "#Telangana\n",
    "#Hyderabad\n",
    "containerHyd = parsed_pageHyd.find_all('a', {'class':'college_name' })\n",
    "\n",
    "print(len(containerHyd))\n",
    "\n",
    "for tHyd in containerHyd:\n",
    "\n",
    "    detailHyd = tHyd.text\n",
    "    detHyd = detailHyd.split(',')\n",
    "    titleHyd = detHyd[0]\n",
    "    locHyd = detHyd[1]\n",
    "    print(titleHyd, locHyd)\n",
    "    \n",
    "    f.write(titleHyd + \",\" + \"Telangana\" + \",\" + locHyd + \"\\n\")\n"
   ]
  },
  {
   "cell_type": "markdown",
   "metadata": {},
   "source": [
    "### Rangareddi"
   ]
  },
  {
   "cell_type": "code",
   "execution_count": 62,
   "metadata": {},
   "outputs": [
    {
     "name": "stdout",
     "output_type": "stream",
     "text": [
      "30\n",
      "CVR College of Engineering  Rangareddi\n",
      "Sridevi Women's Engineering College - [SWEC]  Rangareddi\n",
      "Bharat Institute of Engineering and Technology - [BIET] Ibrahimpatanam  Rangareddi\n",
      "Geethanjali College of Engineering and Technology Keesara  Rangareddi\n",
      "Sri Indu Institute of Engineering & Technology - [SICET]  Rangareddi\n",
      "Sri Indu College of Engineering and Technology  Rangareddi\n",
      "Swarnandhra College of Engineering and Technology  Rangareddi\n",
      "Swarnandhra Institute of Engineering and Technology - [SIET]  Rangareddi\n",
      "PRRM Engineering College  Rangareddi\n",
      "Bhaskar Engineering College - [BEC]  Rangareddi\n",
      "AVN Institute of Engineering and Technology - [AVNIET]  Rangareddi\n",
      "Amina Institute of Technology  Rangareddi\n",
      "Sri KS Raju Institute of Technology and Sciences - [KSIT]  Rangareddi\n",
      "Swathi Institute of Technology and Sciences - [SITS]  Rangareddi\n",
      "Hasvita Institute of Management and Technology - [HIMT]  Rangareddi\n",
      "Harshith Group of Institutions Faculty of Engineering  Rangareddi\n",
      "Aryabhata Institute of Technology and Science  Rangareddi\n",
      "CRV Institute of Technology and Sciences - [CRVITS]  Rangareddi\n",
      "KBR Engineering College  Rangareddi\n",
      "KITE College of Professional Engineering Sciences - [KPES]  Rangareddi\n",
      "Kasireddy Narayan Reddy College of Engineering and Research- [KNRR] Hayathnagar  Rangareddi\n",
      "Jagruti Institute of Engineering and Technology - [JIET]  Rangareddi\n",
      "Visvesvaraya College of Engineering and Technology -[VCET]  Rangareddi\n",
      "Vijaya Krishna Institute of Technology & Sciences - [VKITS]  Rangareddi\n",
      "Brilliant Grammar School Educational Society's Group of Institutions - [BGTI]  Rangareddi\n",
      "Brilliant Institute of Engineering & Technology - [BRIL]  Rangareddi\n",
      "Global Group of Institutions School of Engineering  Rangareddi\n",
      "Nalla Narasimha Reddy Education Society's Group of Institutions - [NNRG]  Rangareddi\n",
      "Aurora's Technological and Management Academy - [ATMA]  Rangareddi\n",
      "Al Habeeb College of Engineering and Technology - [AHCET] Chevella  Rangareddi\n"
     ]
    }
   ],
   "source": [
    "#Telangana\n",
    "#Rangareddi\n",
    "containerRan = parsed_pageRan.find_all('a', {'class':'college_name' })\n",
    "\n",
    "print(len(containerRan))\n",
    "\n",
    "for tRan in containerRan:\n",
    "\n",
    "    detailRan = tRan.text\n",
    "    detRan = detailRan.split(',')\n",
    "    titleRan = detRan[0]\n",
    "    locRan = detRan[1]\n",
    "    print(titleRan, locRan)\n",
    "    \n",
    "    f.write(titleRan + \",\" + \"Telangana\" + \",\" + locRan + \"\\n\")\n"
   ]
  },
  {
   "cell_type": "markdown",
   "metadata": {},
   "source": [
    "### Nalgonda"
   ]
  },
  {
   "cell_type": "code",
   "execution_count": 63,
   "metadata": {},
   "outputs": [
    {
     "name": "stdout",
     "output_type": "stream",
     "text": [
      "23\n",
      "Vignan Institute of Technology & Science - [VITS]  Nalgonda\n",
      "Swami Ramananda Tirtha Institute of Science & Technology - [SRTIST]  Nalgonda\n",
      "EVR College of Engineering and Technology  Nalgonda\n",
      "Nagarjuna Institute of Technology and Science  Nalgonda\n",
      "Anurag Engineering College  Nalgonda\n",
      "Anasuya Devi Institute of Technology & Sciences  Nalgonda\n",
      "Mina Institute of Engineering and Technology for Women  Nalgonda\n",
      "Nalgonda Institute of Technology and Sciences - [NITS]  Nalgonda\n",
      "Netaji Institute of Engineering & Technology  Nalgonda\n",
      "Sri Sarada Institute of Science & Technology - [SSIST]  Nalgonda\n",
      "Vishnu Sree Institute of Technology - [VSIT]  Nalgonda\n",
      "Vathsalya Institute of Science & Technology  Nalgonda\n",
      "Sree Vaanmayi Institute of Engineering and Technology  Nalgonda\n",
      "Gandhi Academy of Technical Education - [GATE]  Nalgonda\n",
      "Madhira Institute of Technology & Science - [MITS]  Nalgonda\n",
      "Mahatma Gandhi University - [MGU]  Nalgonda\n",
      "Auroras Engineering College  Nalgonda\n",
      "Khader Memorial College of Engineering and Technology - [KMCET]  Nalgonda\n",
      "Ashoka Institute of Engineering and Technology - [AIET]  Nalgonda\n",
      "Kodada Institute of Technology & Science for Women - [KITS]  Nalgonda\n",
      "Tudi Narsimha Reddy Institute of Technology & Sciences  Nalgonda\n",
      "Tudi Ram Reddy Institute of Technology & Sciences  Nalgonda\n",
      "Mona College of Engineering & Technology  Nalgonda\n"
     ]
    }
   ],
   "source": [
    "#Telangana\n",
    "#Nalgonda\n",
    "containerNal = parsed_pageNal.find_all('a', {'class':'college_name' })\n",
    "\n",
    "print(len(containerNal))\n",
    "\n",
    "for tNal in containerNal:\n",
    "\n",
    "    detailNal = tNal.text\n",
    "    detNal = detailNal.split(',')\n",
    "    titleNal = detNal[0]\n",
    "    locNal = detNal[1]\n",
    "    print(titleNal, locNal)\n",
    "    \n",
    "    f.write(titleNal + \",\" + \"Telangana\" + \",\" + locNal + \"\\n\")\n"
   ]
  },
  {
   "cell_type": "markdown",
   "metadata": {},
   "source": [
    "### Warangal"
   ]
  },
  {
   "cell_type": "code",
   "execution_count": 64,
   "metadata": {},
   "outputs": [
    {
     "name": "stdout",
     "output_type": "stream",
     "text": [
      "22\n",
      "National Institute of Technology - [NIT]  Warangal\n",
      "Kakatiya Institute of Technology & Science - [KITSW]  Warangal\n",
      "Kakatiya University - [KU]  Warangal\n",
      "SR Engineering College - [SREC]  Warangal\n",
      "University College of Engineering  Kakatiya University\n",
      "Vaagdevi Engineering college - [VEC]  Warangal\n",
      "Balaji Institute of Engineering and Sciences - [BIES]  Warangal\n",
      "Balaji Institute of Technology and Science - [BITS]  Warangal\n",
      "Jayamukhi Institute of Technological Sciences - [JITS]  Warangal\n",
      "Vaagdevi College of Engineering  Warangal\n",
      "Chaitanya Institute of Technology and Science - [CITS]  Warangal\n",
      "Talla Padmavathi College of Engineering - [TPCE]  Warangal\n",
      "Ganapathy Engineering College - [GEC]  Warangal\n",
      "Sujala Bharathi Institute of Technology - [SBIT]  Warangal\n",
      "Supraja Institute of Technology and Science  Warangal\n",
      "Warangal Institute of Technology and Science - [WITS]  Warangal\n",
      "Vinuthna Institute of Technology and Science and Vinuthna College of Management  Warangal\n",
      "idya Bharathi Institute of Technology  Warangal\n",
      "Sumathi Reddy Institute of Technology for Women - [SRITW]  Warangal\n",
      "SVS Group of Institutions  Warangal\n",
      "Christu Jyoti Institute of Technology and Science - [CJITS]  Warangal\n",
      "Jaya Institute of Technology & Science for Women - [JITSW]  Warangal\n"
     ]
    }
   ],
   "source": [
    "#Telangana\n",
    "#Warangal\n",
    "containerWar = parsed_pageWar.find_all('a', {'class':'college_name' })\n",
    "\n",
    "print(len(containerWar))\n",
    "\n",
    "for tWar in containerWar:\n",
    "\n",
    "    detailWar = tWar.text\n",
    "    detWar = detailWar.split(',')\n",
    "    titleWar = detWar[0]\n",
    "    locWar = detWar[1]\n",
    "    print(titleWar, locWar)\n",
    "    \n",
    "    f.write(titleWar + \",\" + \"Telangana\" + \",\" + locWar + \"\\n\")\n"
   ]
  },
  {
   "cell_type": "markdown",
   "metadata": {},
   "source": [
    "### Khammam"
   ]
  },
  {
   "cell_type": "code",
   "execution_count": 65,
   "metadata": {},
   "outputs": [
    {
     "name": "stdout",
     "output_type": "stream",
     "text": [
      "18\n",
      "Laqshya Institute of Technology & Sciences  Khammam\n",
      "Swarna Bharathi Institute of Science and Technology - [SBIT]  Khammam\n",
      "Sai Spurthi Institute of Technology - [SSIT]  Khammam\n",
      "AbdulKalam Institute of Technological Sciences - [AKIT]  Khammam\n",
      "Anu Bose Institute of Technology - [ABIT]  Khammam\n",
      "Bomma Institute of Technology & Sciences  Khammam\n",
      "Daripally Anantha Ramulu College of Engineering & Technology - [DARE]  Khammam\n",
      "KLR College of Engineering and Technology  Khammam\n",
      "Khammam Institute of Technology & Sciences - [KITS]  Khammam\n",
      "Mother Teresa Institute of Science and Technology  Khammam\n",
      "Sarada Institute of Technology and Science - [SITS]  Khammam\n",
      "Adam's Engineering College - [ADAM]  Khammam\n",
      "Adams Engineering College  Khammam\n",
      "Mohammadiya Educational Society  Khammam\n",
      "Sree Rama Institute of Technology and Science - [SRITS]  Khammam\n",
      "Swarna Bharathi College of Engineering - [SBCE]  Khammam\n",
      "Sreekavitha Engineering College - [SKEC]  Khammam\n",
      "Vijaya Engineering College  Khammam\n"
     ]
    }
   ],
   "source": [
    "#Telangana\n",
    "#Khammam\n",
    "containerKha = parsed_pageKha.find_all('a', {'class':'college_name' })\n",
    "\n",
    "print(len(containerKha))\n",
    "\n",
    "for tKha in containerKha:\n",
    "\n",
    "    detailKha = tKha.text\n",
    "    detKha = detailKha.split(',')\n",
    "    titleKha = detKha[0]\n",
    "    locKha = detKha[1]\n",
    "    print(titleKha, locKha)\n",
    "    \n",
    "    f.write(titleKha + \",\" + \"Telangana\" + \",\" + locKha + \"\\n\")\n"
   ]
  },
  {
   "cell_type": "markdown",
   "metadata": {},
   "source": [
    "## Kerala Links"
   ]
  },
  {
   "cell_type": "code",
   "execution_count": 66,
   "metadata": {},
   "outputs": [],
   "source": [
    "new_urlTiru = 'https://collegedunia.com/engineering/thiruvananthapuram-colleges'\n",
    "new_urlThr = 'https://collegedunia.com/engineering/thrissur-colleges'\n",
    "new_urlErn = 'https://collegedunia.com/engineering/ernakulam-colleges'\n",
    "new_urlKol = 'https://collegedunia.com/engineering/kollam-colleges'\n",
    "new_urlKot = 'https://collegedunia.com/engineering/kottayam-colleges'\n",
    "new_urlKoc = 'https://collegedunia.com/engineering/kochi-colleges'\n",
    "new_urlPal = 'https://collegedunia.com/engineering/palakkad-colleges'"
   ]
  },
  {
   "cell_type": "code",
   "execution_count": 67,
   "metadata": {},
   "outputs": [],
   "source": [
    "#Tiruvananthapuram\n",
    "ucTiru = uo(new_urlTiru)\n",
    "raw_pageTiru = ucTiru.read()\n",
    "ucTiru.close()\n",
    "#Thrissur\n",
    "ucThr = uo(new_urlThr)\n",
    "raw_pageThr = ucThr.read()\n",
    "ucThr.close()\n",
    "#Ernakulam\n",
    "ucErn = uo(new_urlErn)\n",
    "raw_pageErn = ucErn.read()\n",
    "ucErn.close()\n",
    "#Kollam\n",
    "ucKol = uo(new_urlKol)\n",
    "raw_pageKol = ucKol.read()\n",
    "ucKol.close()\n",
    "#Kottayam\n",
    "ucKot = uo(new_urlKot)\n",
    "raw_pageKot = ucKot.read()\n",
    "ucKot.close()\n",
    "#Kochi\n",
    "ucKoc = uo(new_urlKoc)\n",
    "raw_pageKoc = ucKoc.read()\n",
    "ucKoc.close()\n",
    "#Palakkad\n",
    "ucPal = uo(new_urlPal)\n",
    "raw_pagePal = ucPal.read()\n",
    "ucPal.close()"
   ]
  },
  {
   "cell_type": "code",
   "execution_count": 68,
   "metadata": {},
   "outputs": [],
   "source": [
    "parsed_pageTiru = BS(raw_pageTiru, \"html.parser\")\n",
    "parsed_pageThr = BS(raw_pageThr, \"html.parser\")\n",
    "parsed_pageErn = BS(raw_pageErn, \"html.parser\")\n",
    "parsed_pageKol = BS(raw_pageKol, \"html.parser\")\n",
    "parsed_pageKot = BS(raw_pageKot, \"html.parser\")\n",
    "parsed_pageKoc = BS(raw_pageKoc, \"html.parser\")\n",
    "parsed_pagePal = BS(raw_pagePal, \"html.parser\")"
   ]
  },
  {
   "cell_type": "markdown",
   "metadata": {},
   "source": [
    "### Tiruvananthapuram"
   ]
  },
  {
   "cell_type": "code",
   "execution_count": 69,
   "metadata": {},
   "outputs": [
    {
     "name": "stdout",
     "output_type": "stream",
     "text": [
      "25\n",
      "Indian Institute of Space Science and Technology - [IIST]  Thiruvananthapuram\n",
      "College of Engineering  Thiruvananthapuram\n",
      "Government Engineering College - [GEC] Barton Hill  Thiruvananthapuram\n",
      "Sree Chitra Thirunal College of Engineering - [SCTCE]  Thiruvananthapuram\n",
      "LBS Institute of Technology for Women - [LBSITW] Poojappura  Thiruvananthapuram\n",
      "College of Engineering - [CEAL] Attingal  Thiruvananthapuram\n",
      "University of Kerala  University College Of Engineering Kariavattom\n",
      "Heera College of Engineering and Technology - [HCET] Nedumangad  Thiruvananthapuram\n",
      "St Thomas Institute for Science and Technology - [STIST]  Thiruvananthapuram\n",
      "John Cox Memorial CSI Institute of Technology Kannammoola  Thiruvananthapuram\n",
      "MG College of Engineering Thiruvallam  Thiruvananthapuram\n",
      "Mar Baselios College of Engineering and Technology - [MBCET] Nalanchira  Thiruvananthapuram\n",
      "Marian Engineering College - [MEC] Kazhakuttom  Thiruvananthapuram\n",
      "Mohandas College of Engineering and Technology  Thiruvananthapuram\n",
      "Sarabhai Institute of Science & Technology - [SIST] Vellanad   Thiruvananthapuram\n",
      "Trinity College of Engineering  Thiruvananthapuram\n",
      "Pankajakasthuri College of Engineering and Technology - [PKCET]  Thiruvananthapuram\n",
      "University of Kerala - [KU]  Thiruvananthapuram\n",
      "APJ Abdul Kalam Technological University  Thiruvananthapuram\n",
      "Government Arts College  Thiruvananthapuram\n",
      "ER & DCI Institute of Technology  Thiruvananthapuram\n",
      "Lourdes Matha College of Science and Technology  Thiruvananthapuram\n",
      "Muslim Association College of Engineering - [MACE] Venjaramoodu  Thiruvananthapuram\n",
      "Vidya Academy of Science and Technology Technical Campus  Thiruvananthapuram\n",
      "College of Engineering Muttathara  Thiruvananthapuram\n"
     ]
    }
   ],
   "source": [
    "#Kerala\n",
    "#Tiruvananthapuram\n",
    "containerTiru = parsed_pageTiru.find_all('a', {'class':'college_name' })\n",
    "\n",
    "print(len(containerTiru))\n",
    "\n",
    "for tTiru in containerTiru:\n",
    "\n",
    "    detailTiru = tTiru.text\n",
    "    detTiru = detailTiru.split(',')\n",
    "    titleTiru = detTiru[0]\n",
    "    locTiru = detTiru[1]\n",
    "    print(titleTiru, locTiru)\n",
    "    \n",
    "    f.write(titleTiru + \",\" + \"Kerala\" + \",\" + locTiru + \"\\n\")\n"
   ]
  },
  {
   "cell_type": "markdown",
   "metadata": {},
   "source": [
    "### Thrissur"
   ]
  },
  {
   "cell_type": "code",
   "execution_count": 70,
   "metadata": {},
   "outputs": [
    {
     "name": "stdout",
     "output_type": "stream",
     "text": [
      "20\n",
      "KVASU  College of Dairy Science and Technology Mannuthy - [CDST]\n",
      "Vidya Academy of Science and Technology - [VAST]  Thrissur\n",
      "Royal College of Engineering and Technology - [RCET]  Thrissur\n",
      "Universal Engineering College - [UEC]  Thrissur\n",
      "IES College of Engineering - [IESCE] Chittilappilly  Thrissur\n",
      "Jyothi Engineering College Cheruthuruthy - [JECC]  Thrissur\n",
      "Malabar College of Engineering and Technology - [MCET]  Thrissur\n",
      "Nehru College of Engineering and Research Centre - [NCERC]  Thrissur\n",
      "Sahrdaya College of Engineering and Technology - [SCET] Kodakara  Thrissur\n",
      "Thejus Engineering College  Thrissur\n",
      "Holy Grace Academy of Engineering - [HGAE]  Thrissur\n",
      "Axis College of Engineering and Technology  Thrissur\n",
      "Sree Ernakulathappan College of Engineering and Management - [SETCEM]  Thrissur\n",
      "MET's School of Engineering Mala  Thrissur\n",
      "Kerala Agricultural University - [KAU]  Thrissur\n",
      "Engineer's Training Centre - [ETC]  Thrissur\n",
      "Government Engineering College - [GECT]  Thrissur\n",
      "Nirmala College of Engineering Chalakkudy  Thrissur\n",
      "Christ College of Engineering - [CCEIJK] Irinjalakuda  Thrissur\n",
      "Focus Institute of Science and Technology Poomala  Thrissur\n"
     ]
    }
   ],
   "source": [
    "#Kerala\n",
    "#Thrissur\n",
    "containerThr = parsed_pageThr.find_all('a', {'class':'college_name' })\n",
    "\n",
    "print(len(containerThr))\n",
    "\n",
    "for tThr in containerThr:\n",
    "\n",
    "    detailThr = tThr.text\n",
    "    detThr = detailThr.split(',')\n",
    "    titleThr = detThr[0]\n",
    "    locThr = detThr[1]\n",
    "    print(titleThr, locThr)\n",
    "    \n",
    "    f.write(titleThr + \",\" + \"Kerala\" + \",\" + locThr + \"\\n\")\n"
   ]
  },
  {
   "cell_type": "markdown",
   "metadata": {},
   "source": [
    "### Ernakulam"
   ]
  },
  {
   "cell_type": "code",
   "execution_count": 71,
   "metadata": {},
   "outputs": [
    {
     "name": "stdout",
     "output_type": "stream",
     "text": [
      "16\n",
      "Adi Shankara Institute of Engineering and Technology - [ASIET] Kalady  Ernakulam\n",
      "Federal Institute of Science and Technology - [FISAT] Angamaly  Ernakulam\n",
      "Sree Narayana Gurukulam College of Engineering - [SNGCE] Kadayiruppu  Ernakulam\n",
      "SCMS School of Engineering and Technology [SSET]  Ernakulam\n",
      "KMP College of Engineering - [KPMCE] Perumbavoor  Ernakulam\n",
      "Baselios Thomas I Catholicose College of Engineering and Technology - [BTC]  Ernakulam\n",
      "ILM College of Engineering and Technology - [ILMCET]  Ernakulam\n",
      "Matha College of Technology - [MCT]  Ernakulam\n",
      "Vijnan Institute of Science and Technology - [VISAT]  Ernakulam\n",
      "Sree Narayana Mangalam Institute of Management and Technology - [SNMIMT] Maliankara  Ernakulam\n",
      "Mar Baselios Institute of Technology and Science - [MBITS]  Ernakulam\n",
      "Viswajyothi College of Engineering and Technology - [VJCET]  Ernakulam\n",
      "MES College of Engineering and Technology - [MESCET] Kunnukara   Ernakulam\n",
      "Christ Knowledge City - [CKC]  Ernakulam\n",
      "Muthoot Institute of Technology & Science - [MITS]  Ernakulam\n",
      " Cochin University of Science and Technology  School of Engineering Thrikkakara\n"
     ]
    }
   ],
   "source": [
    "#Kerala\n",
    "#Ernakulam\n",
    "containerErn = parsed_pageErn.find_all('a', {'class':'college_name' })\n",
    "\n",
    "print(len(containerErn))\n",
    "\n",
    "for tErn in containerErn:\n",
    "\n",
    "    detailErn = tErn.text\n",
    "    detErn = detailErn.split(',')\n",
    "    titleErn = detErn[0]\n",
    "    locErn = detErn[1]\n",
    "    print(titleErn, locErn)\n",
    "    \n",
    "    f.write(titleErn + \",\" + \"Kerala\" + \",\" + locErn + \"\\n\")\n"
   ]
  },
  {
   "cell_type": "markdown",
   "metadata": {},
   "source": [
    "### Kollam"
   ]
  },
  {
   "cell_type": "code",
   "execution_count": 72,
   "metadata": {},
   "outputs": [
    {
     "name": "stdout",
     "output_type": "stream",
     "text": [
      "16\n",
      "College of Engineering Kottarakkara  Kollam\n",
      "Baselios Mathews II College of Engineering - [BMCE]  Kollam\n",
      "Thangal Kunju Musaliar Institute of Technology - [TKM]  Kollam\n",
      "UKF College of Engineering and Technology - [UKFCET]  Kollam\n",
      "Hindustan College of Engineering - [HCE]  Kollam\n",
      "MES Institute of Technology and Management - [MESITAM]  Kollam\n",
      "SHM Engineering College - [SHMEC]  Kollam\n",
      "Travancore Engineering College - [TEC] Oyoor  Kollam\n",
      "Younus College of Engineering and Technology - [YCET]  Kollam\n",
      "Bishop Jerome Institute - [BJGI]  Kollam\n",
      "Younus Institute of Technology - [YIT] Kannanallore  Kollam\n",
      "Amrita Vishwa Vidyapeetham Amritapuri Campus  Kollam\n",
      "Pinnacle School of Engineering and Technology - [PSET]  Kollam\n",
      "TKM College of Engineering - [TKMCE]  Kollam\n",
      "College of Engineering Perumon  Kollam\n",
      "Amrita School of Engineering - [ASE]  Kollam\n"
     ]
    }
   ],
   "source": [
    "#Kerala\n",
    "#Kollam\n",
    "containerKol = parsed_pageKol.find_all('a', {'class':'college_name' })\n",
    "\n",
    "print(len(containerKol))\n",
    "\n",
    "for tKol in containerKol:\n",
    "\n",
    "    detailKol = tKol.text\n",
    "    detKol = detailKol.split(',')\n",
    "    titleKol = detKol[0]\n",
    "    locKol = detKol[1]\n",
    "    print(titleKol, locKol)\n",
    "    \n",
    "    f.write(titleKol + \",\" + \"Kerala\" + \",\" + locKol + \"\\n\")\n"
   ]
  },
  {
   "cell_type": "markdown",
   "metadata": {},
   "source": [
    "### Kottayam"
   ]
  },
  {
   "cell_type": "code",
   "execution_count": 73,
   "metadata": {},
   "outputs": [
    {
     "name": "stdout",
     "output_type": "stream",
     "text": [
      "15\n",
      "Rajiv Gandhi Institute of Technology - [RIT]  Kottayam\n",
      "College of Engineering - [CEK]  Kidangoor  Kottayam\n",
      "Mangalam College of Engineering Ettumanoor - [MLM]  Kottayam\n",
      "Gurudeva Institute of Science and Technology - [GISAT]  Kottayam\n",
      "Saintgits College of Engineering  Kottayam\n",
      "St. Joseph's College of Engineering and Technology - [SJCET] Palai  Kottayam\n",
      "Kottayam Institute of Technology and Science - [KITS]  Kottayam\n",
      "Mahatma Gandhi University - [MGU]  Kottayam\n",
      "Deva Matha College - [DMC] Kuravilangad  Kottayam\n",
      "Mahatma Gandhi University  School of Technology and Applied Sciences - [STAS]\n",
      "Visveswaraya Institute of Engineering Technology - [VIET]  Kottayam\n",
      "College of Engineering Poonjar  Kottayam\n",
      "Toms College of Engineering For Startups - [TCE] Mattakara  Kottayam\n",
      "Mahatma Gandhi University  School of Computer Science - [SCS MGU]\n",
      "Indian Institute of Information Technology [IIIT]  Kottayam\n"
     ]
    }
   ],
   "source": [
    "#Kerala\n",
    "#Kottyam\n",
    "containerKot = parsed_pageKot.find_all('a', {'class':'college_name' })\n",
    "\n",
    "print(len(containerKot))\n",
    "\n",
    "for tKot in containerKot:\n",
    "\n",
    "    detailKot = tKot.text\n",
    "    detKot = detailKot.split(',')\n",
    "    titleKot = detKot[0]\n",
    "    locKot = detKot[1]\n",
    "    print(titleKot, locKot)\n",
    "    \n",
    "    f.write(titleKot + \",\" + \"Kerala\" + \",\" + locKot + \"\\n\")\n"
   ]
  },
  {
   "cell_type": "markdown",
   "metadata": {},
   "source": [
    "### Kochi"
   ]
  },
  {
   "cell_type": "code",
   "execution_count": 74,
   "metadata": {},
   "outputs": [
    {
     "name": "stdout",
     "output_type": "stream",
     "text": [
      "11\n",
      "Govt. Model Engineering College - [MEC] Thrikkakara  Kochi\n",
      "Cochin University of Science and Technology - [CUSAT]  Kochi\n",
      "Amrita Vishwa Vidyapeetham Kochi Campus  Kochi\n",
      "Kerala University of Fisheries and Ocean Studies - [KUFOS] Panangad  Kochi\n",
      "Indian School of Business Management and Administration - [ISBM]  Kochi\n",
      "Rajagiri School of Engineering & Technology - [RSET]  Kochi\n",
      "Skiltek Educational Institutions  Kochi\n",
      "Don Bosco Institute of Graphic Arts Communication Technology  Kochi\n",
      "Albertian Institute of Science and Technology - [AISAT]  Kochi\n",
      "Cochin University of Science and Technology  International School of Photonics Thrikkakara - [ISP]\n",
      "Euro Tech Maritime Academy  Kochi\n"
     ]
    }
   ],
   "source": [
    "#Kerala\n",
    "#Kochi\n",
    "containerKoc = parsed_pageKoc.find_all('a', {'class':'college_name' })\n",
    "\n",
    "print(len(containerKoc))\n",
    "\n",
    "for tKoc in containerKoc:\n",
    "\n",
    "    detailKoc = tKoc.text\n",
    "    detKoc = detailKoc.split(',')\n",
    "    titleKoc = detKoc[0]\n",
    "    locKoc = detKoc[1]\n",
    "    print(titleKoc, locKoc)\n",
    "    \n",
    "    f.write(titleKoc + \",\" + \"Kerala\" + \",\" + locKoc + \"\\n\")\n"
   ]
  },
  {
   "cell_type": "markdown",
   "metadata": {},
   "source": [
    "### Palakkad"
   ]
  },
  {
   "cell_type": "code",
   "execution_count": 75,
   "metadata": {},
   "outputs": [
    {
     "name": "stdout",
     "output_type": "stream",
     "text": [
      "11\n",
      "NSS College of Engineering - [NSSCE]  Palakkad\n",
      "Sreepathy Institute of Management and Technology - [SIMAT] Vavannor  Palakkad\n",
      "Ahalia School of Engineering and Technology - [ASET]  Palakkad\n",
      "Ammini College of Engineering - [ACE]  Palakkad\n",
      "Prime College of Engineering  Palakkad\n",
      "Aryanet Institute of Technology  Palakkad\n",
      "Al-Ameen Engineering College - [AEC]  Palakkad\n",
      "Government Engineering College - [GECSKP] Sreekrishnapuram   Palakkad\n",
      "College of Applied Science Vadakkencherry  Palakkad\n",
      "Jawaharlal College of Engineering and Technology - [JCET] Ottapalam  Palakkad\n",
      "Indian Institute of Technology - [IITPKD]  Palakkad\n"
     ]
    }
   ],
   "source": [
    "#Kerala\n",
    "#Palakkad\n",
    "containerPal = parsed_pagePal.find_all('a', {'class':'college_name' })\n",
    "\n",
    "print(len(containerPal))\n",
    "\n",
    "for tPal in containerPal:\n",
    "\n",
    "    detailPal = tPal.text\n",
    "    detPal = detailPal.split(',')\n",
    "    titlePal = detPal[0]\n",
    "    locPal = detPal[1]\n",
    "    print(titlePal, locPal)\n",
    "    \n",
    "    f.write(titlePal + \",\" + \"Kerala\" + \",\" + locPal + \"\\n\")\n"
   ]
  },
  {
   "cell_type": "markdown",
   "metadata": {},
   "source": [
    "## Madhya Pradesh"
   ]
  },
  {
   "cell_type": "code",
   "execution_count": 79,
   "metadata": {},
   "outputs": [],
   "source": [
    "new_urlBho = 'https://collegedunia.com/engineering/bhopal-colleges'\n",
    "new_urlInd = 'https://collegedunia.com/engineering/indore-colleges'\n",
    "new_urlGwa = 'https://collegedunia.com/engineering/gwalior-colleges'\n",
    "new_urlJab = 'https://collegedunia.com/engineering/jabalpur-colleges'"
   ]
  },
  {
   "cell_type": "code",
   "execution_count": 80,
   "metadata": {},
   "outputs": [],
   "source": [
    "#Bhopal\n",
    "ucBho = uo(new_urlBho)\n",
    "raw_pageBho = ucBho.read()\n",
    "ucBho.close()\n",
    "#Indore\n",
    "ucInd = uo(new_urlInd)\n",
    "raw_pageInd = ucInd.read()\n",
    "ucInd.close()\n",
    "#Gwalior\n",
    "ucGwa = uo(new_urlGwa)\n",
    "raw_pageGwa = ucGwa.read()\n",
    "ucGwa.close()\n",
    "#Jabalpur\n",
    "ucJab = uo(new_urlJab)\n",
    "raw_pageJab = ucJab.read()\n",
    "ucJab.close()"
   ]
  },
  {
   "cell_type": "code",
   "execution_count": 81,
   "metadata": {},
   "outputs": [],
   "source": [
    "parsed_pageBho = BS(raw_pageBho, \"html.parser\")\n",
    "parsed_pageInd = BS(raw_pageInd, \"html.parser\")\n",
    "parsed_pageGwa = BS(raw_pageGwa, \"html.parser\")\n",
    "parsed_pageJab = BS(raw_pageJab, \"html.parser\")"
   ]
  },
  {
   "cell_type": "markdown",
   "metadata": {},
   "source": [
    "### Bhopal"
   ]
  },
  {
   "cell_type": "code",
   "execution_count": 82,
   "metadata": {},
   "outputs": [
    {
     "name": "stdout",
     "output_type": "stream",
     "text": [
      "32\n",
      "Maulana Azad National Institute of Technology  - [MANIT]  Bhopal\n",
      "Barkatullah University Institute of Technology - [BUIT]  Bhopal\n",
      "University Institute of Technology Rajiv Gandhi Proudyogiki Vishwavidyalaya - [UIT- RGPV]  Bhopal\n",
      "Lakshmi Narain College of Technology - [LNCT]  Bhopal\n",
      "LNCT University - [LNCTU]  Bhopal\n",
      "Central Institute of Plastics Engineering and Technology - [CIPET]  Bhopal\n",
      "RKDF University  Bhopal\n",
      "Oriental Institute of Science and Technology - [OIST]  Bhopal\n",
      "Radharaman Institute of Technology & Science  Bhopal\n",
      "Technocrats Institute of Technology - [TIT]  Bhopal\n",
      "IES College of Technology - [ICOT]  Bhopal\n",
      "Bansal Institute of Science and Technology - [BIST]  Bhopal\n",
      "Truba Institute of Engineering and Information Technology - [TIEIT]  Bhopal\n",
      "Mittal Institute of Technology - [MIT]  Bhopal\n",
      "Acropolis Institute of Technology and Research - [AITR]  Bhopal\n",
      "Bansal College of Engineering - [BCE]  Bhopal\n",
      "Rukmani Devi Institute of Science and Technology - [RDIST]  Bhopal\n",
      "Scope College of Engineering  Bhopal\n",
      "Jai Narain College of Technology - [JNCT]  Bhopal\n",
      "Vedica Institute of Technology  Bhopal\n",
      "Bagula Mukhi College of Technology - [BMCT]  Bhopal\n",
      "Madhav Proudyogiki Mahavidyalaya-[MPM]  Bhopal\n",
      "Technocrats Institute of Technology and Science - [TITS]  Bhopal\n",
      "NRI Institute of Research and Technology - [NIRT]  Bhopal\n",
      "Patel Institute of Engineering and Sciences - [PIES]  Bhopal\n",
      "Patel Institute of Technology - [PIT]  Bhopal\n",
      "Gargi Institute of Science and Technology - [GIST]  Bhopal\n",
      "Vidhyapeeth Institute of Science and Technology - [VIST]  Bhopal\n",
      "Sri Satya Sai College of Engineering - [SSSCE]  Bhopal\n",
      "All Saints College of Engineering - [ASCE]  Bhopal\n",
      "Bhabha Engineering Research Institute - [BERI]  Bhopal\n",
      "Corporate Institute of Research and Technology [CIRT]  Bhopal\n"
     ]
    }
   ],
   "source": [
    "#Madhya Pradesh\n",
    "#Bhopal\n",
    "containerBho = parsed_pageBho.find_all('a', {'class':'college_name' })\n",
    "\n",
    "print(len(containerBho))\n",
    "\n",
    "for tBho in containerBho:\n",
    "\n",
    "    detailBho = tBho.text\n",
    "    detBho = detailBho.split(',')\n",
    "    titleBho = detBho[0]\n",
    "    locBho = detBho[1]\n",
    "    print(titleBho, locBho)\n",
    "    \n",
    "    f.write(titleBho + \",\" + \"MP\" + \",\" + locBho + \"\\n\")\n"
   ]
  },
  {
   "cell_type": "markdown",
   "metadata": {},
   "source": [
    "### Indore"
   ]
  },
  {
   "cell_type": "code",
   "execution_count": 83,
   "metadata": {},
   "outputs": [
    {
     "name": "stdout",
     "output_type": "stream",
     "text": [
      "31\n",
      "Indian Institute of Technology - [IIT]  Indore\n",
      "Institute of Engineering and Technology  Devi Ahilya University - [IET -DAVV]\n",
      "Shri Govindram Seksaria Institute of Technology and Science- [SGSITS]  Indore\n",
      "Indore Institute of Science and Technology - [IIST]  Indore\n",
      "Lakshmi Narain College of Technology - [LNCT]  Indore\n",
      "Chameli Devi School of Engineering - [CDSE]  Indore\n",
      "Acropolis Technical Campus  Indore\n",
      "Mahatma Gandhi Institute of Engineering and Management - [MGIEM]  Indore\n",
      "Shri Vaishnav Vidyapeeth Vishwavidyalaya - [SVVV]  Indore\n",
      "Malwa Institute of Technology - [MIT]  Indore\n",
      "Rishiraj Institute of Technology - [RIT]  Indore\n",
      "Sanghvi Institute of Management and Science - [SIMS]  Indore\n",
      "Swami Vivekanand College of Engineering - [SVCE]  Indore\n",
      "Oriental University - [OU]  Indore\n",
      "BM College of Technology - [BMCT]  Indore\n",
      "Royal College of Technology  Indore\n",
      "Priyatam Institute of Technology and Management  Indore\n",
      "Prestige Institute of Engineering Management and Research - [PIEMR]  Indore\n",
      "Astral Institute of Technology and Research  Indore\n",
      "Central India Institute of Technology - [CIIT]  Indore\n",
      "Crescent College of Technology - [CCT]  Indore\n",
      "Lord Krishna College of Technology - [LKCT]  Indore\n",
      "Malwa Institute of Science and Technology - [MIST]  Indore\n",
      "Mandsaur Institute of Technology- [MIT]  Indore\n",
      "Shiv Kumar Singh Institute of Technology & Science - [SKSITS]  Indore\n",
      "Sri Aurobindo Institute of Technology - [SAIT]  Indore\n",
      "Sushila Devi Bansal College of Technology - [SDBCT]  Indore\n",
      "Vikrant Institute of Technology & Management - [VITM]  Indore\n",
      "Jagadguru Dattatray College of Technology - [JDCT]  Indore\n",
      "Shri Venkteshwar Institute Of Technology - [SVIT]  Indore\n",
      "Sanghvi Innovative Academy - [SIA]  Indore\n"
     ]
    }
   ],
   "source": [
    "#Madhya Pradesh\n",
    "#Indore\n",
    "containerInd = parsed_pageInd.find_all('a', {'class':'college_name' })\n",
    "\n",
    "print(len(containerInd))\n",
    "\n",
    "for tInd in containerInd:\n",
    "\n",
    "    detailInd = tInd.text\n",
    "    detInd = detailInd.split(',')\n",
    "    titleInd = detInd[0]\n",
    "    locInd = detInd[1]\n",
    "    print(titleInd, locInd)\n",
    "    \n",
    "    f.write(titleInd + \",\" + \"MP\" + \",\" + locInd + \"\\n\")\n"
   ]
  },
  {
   "cell_type": "markdown",
   "metadata": {},
   "source": [
    "### Gwalior"
   ]
  },
  {
   "cell_type": "code",
   "execution_count": 84,
   "metadata": {},
   "outputs": [
    {
     "name": "stdout",
     "output_type": "stream",
     "text": [
      "28\n",
      "Atal Bihari Vajpayee Indian Institute of Information Technology and Management - [ABV-IIITM]  Gwalior\n",
      "Madhav Institute of Technology and Science - [MITS]  Gwalior\n",
      "ITM University  Gwalior\n",
      "Rustamji Institute of Technology - [RJIT]  Gwalior\n",
      "Jiwaji University  Gwalior\n",
      "Shri Ram College of Engineering and Management - [SRCEM]  Gwalior\n",
      "Nagaji Institute of Technology & Management - [NITM]  Gwalior\n",
      "BVM College of Technology and Management - [BVMCTM]  Gwalior\n",
      "Gwalior Institute of Technology and Science - [GITS]  Gwalior\n",
      "Maharana Pratap College of Technology - [MPCT]  Gwalior\n",
      "NRI Institute of Technology and Management - [NRIITM]  Gwalior\n",
      "Shri Ram Institute of Information Technology - [SRIIT]  Gwalior\n",
      "IPS College of Technology and Management  Gwalior\n",
      "Kamal Kant Institute of Technology and Management - [KKITM]  Gwalior\n",
      "Lakshmi Narain Academy of Technology - [LNAT]  Gwalior\n",
      "Lakshmi Narain College Of Technology & Science - [LNCTS]  Gwalior\n",
      "Maharana Pratap College of Technology and Management - [MPCTM]  Gwalior\n",
      "Gwalior Institute of Information Technology - [GIIT]  Gwalior\n",
      "Malwa Institute Of Technology And Management - [MITM]  Gwalior\n",
      "Vikrant Institute of Technology & Management - [VITM]  Gwalior\n",
      "GICTS Group of Institutions  Gwalior\n",
      "Amity University  Gwalior\n",
      "Gwalior Engineering College  Gwalior\n",
      "Institute of Technology & Management - [ITM]  Gwalior\n",
      "Institute of Information Technology & Management - [IITM]  Gwalior\n",
      "Bethesda Institute of Technology and Sciences - [BITS]  Gwalior\n",
      "Hindustan Institute of Technology Science and Management - [HITS&M]  Gwalior\n",
      "School of Engineering and Technology  ITM University\n"
     ]
    }
   ],
   "source": [
    "#Madhya Pradesh\n",
    "#Gwalior\n",
    "containerGwa = parsed_pageGwa.find_all('a', {'class':'college_name' })\n",
    "\n",
    "print(len(containerGwa))\n",
    "\n",
    "for tGwa in containerGwa:\n",
    "\n",
    "    detailGwa = tGwa.text\n",
    "    detGwa = detailGwa.split(',')\n",
    "    titleGwa = detGwa[0]\n",
    "    locGwa = detGwa[1]\n",
    "    print(titleGwa, locGwa)\n",
    "    \n",
    "    f.write(titleGwa + \",\" + \"MP\" + \",\" + locGwa + \"\\n\")\n"
   ]
  },
  {
   "cell_type": "markdown",
   "metadata": {},
   "source": [
    "### Jabalpur"
   ]
  },
  {
   "cell_type": "code",
   "execution_count": 85,
   "metadata": {},
   "outputs": [
    {
     "name": "stdout",
     "output_type": "stream",
     "text": [
      "24\n",
      "Indian Institute of Information Technology Design and Manufacturing - [IIITDM]  Jabalpur\n",
      "Shri Ram Institute of Technology - [SRIT]  Jabalpur\n",
      "Gyan Ganga Institute of Technology and Sciences - [GGITS]  Jabalpur\n",
      "Global Engineering College  Jabalpur\n",
      "Gyan Ganga College of Technology - [GGCT]  Jabalpur\n",
      "SGBM Institute of Technology and Science - [SGBMITS]  Jabalpur\n",
      "Guru Ramdas Khalsa Institute of Science & Technology - [GRKIST]  Jabalpur\n",
      "Lakshmi Narain College of Technology - [LNCTJ]  Jabalpur\n",
      "Oriental Engineering College (Polytechnic) - [OEC]  Jabalpur\n",
      "Oriental Institute of Science and Technology - [OIST]  Jabalpur\n",
      "Shri Ram Institute of Science and Technology - [SRIST]  Jabalpur\n",
      "Takshshila Institute of Engineering and Technology - [TIET]  Jabalpur\n",
      "Premier Institute of Technology - [PIT]  Jabalpur\n",
      "Jawaharlal Nehru Krishi Vishwa Vidyalaya - [JNKVV]  Jabalpur\n",
      "Rani Durgavati Vishwavidyalaya  Jabalpur\n",
      "Hitkarini College of Engineering and Technology - [HCET]  Jabalpur\n",
      "Ravi Shankar Institute of Technology and Management  Jabalpur\n",
      "Central India Institute of Management Studies - [CIIMS]  Jabalpur\n",
      "Jabalpur Engineering College - [JEC]  Jabalpur\n",
      "Laxmi Bai Sahuji Institute of Engineering & Technology - [LBSIET]  Jabalpur\n",
      "Radhaswami Institute of Technology -[RSIT]  Jabalpur\n",
      "Saraswati Institute of Engineering and Technology - [SIET]  Jabalpur\n",
      "St. Aloysius Institute of Technology - [SAIT]  Jabalpur\n",
      "Vindhya Institute of Technology and Science - [VITS]  Jabalpur\n"
     ]
    }
   ],
   "source": [
    "#Madhya Pradesh\n",
    "#Jabalpur\n",
    "containerJab = parsed_pageJab.find_all('a', {'class':'college_name' })\n",
    "\n",
    "print(len(containerJab))\n",
    "\n",
    "for tJab in containerJab:\n",
    "\n",
    "    detailJab = tJab.text\n",
    "    detJab = detailJab.split(',')\n",
    "    titleJab = detJab[0]\n",
    "    locJab = detJab[1]\n",
    "    print(titleJab, locJab)\n",
    "    \n",
    "    f.write(titleJab + \",\" + \"MP\" + \",\" + locJab + \"\\n\")\n"
   ]
  },
  {
   "cell_type": "markdown",
   "metadata": {},
   "source": [
    "## Rajasthan Links"
   ]
  },
  {
   "cell_type": "code",
   "execution_count": 88,
   "metadata": {},
   "outputs": [],
   "source": [
    "new_urlJai = 'https://collegedunia.com/engineering/jaipur-colleges'\n",
    "new_urlPil = 'https://collegedunia.com/engineering/pilani-colleges'\n",
    "new_urlUda = 'https://collegedunia.com/engineering/udaipur-colleges'\n",
    "new_urlJod = 'https://collegedunia.com/engineering/jodhpur-colleges'"
   ]
  },
  {
   "cell_type": "code",
   "execution_count": 89,
   "metadata": {},
   "outputs": [],
   "source": [
    "#Jaipur\n",
    "ucJai = uo(new_urlJai)\n",
    "raw_pageJai = ucJai.read()\n",
    "ucJai.close()\n",
    "#Pilani\n",
    "ucPil = uo(new_urlPil)\n",
    "raw_pagePil = ucPil.read()\n",
    "ucPil.close()\n",
    "#Udaipur\n",
    "ucUda = uo(new_urlUda)\n",
    "raw_pageUda = ucUda.read()\n",
    "ucUda.close()\n",
    "#Jodhpur\n",
    "ucJod = uo(new_urlJod)\n",
    "raw_pageJod = ucJod.read()\n",
    "ucJod.close()"
   ]
  },
  {
   "cell_type": "code",
   "execution_count": 90,
   "metadata": {},
   "outputs": [],
   "source": [
    "parsed_pageJai = BS(raw_pageJai, \"html.parser\")\n",
    "parsed_pagePil = BS(raw_pagePil, \"html.parser\")\n",
    "parsed_pageUda = BS(raw_pageUda, \"html.parser\")\n",
    "parsed_pageJod = BS(raw_pageJod, \"html.parser\")"
   ]
  },
  {
   "cell_type": "markdown",
   "metadata": {},
   "source": [
    "### Jaipur"
   ]
  },
  {
   "cell_type": "code",
   "execution_count": 91,
   "metadata": {},
   "outputs": [
    {
     "name": "stdout",
     "output_type": "stream",
     "text": [
      "31\n",
      "Malaviya National Institute of Technology - [MNIT]  Jaipur\n",
      "Swami Keshvanand Institute of Technology  Management and Gramothan - [SKIT]\n",
      "Arya College of Engineering and IT - [ACEIT]  Jaipur\n",
      "Global Institute of Technology - [GIT]  Jaipur\n",
      "University of Engineering and Management - [UEM Jaipur]  Jaipur\n",
      "Maharishi Arvind Institute of Engineering & Technology - [MAIET]  Jaipur\n",
      "Rajasthan Institute of Engineering and Technology - [RIET]  Jaipur\n",
      "Poornima College of Engineering  Jaipur\n",
      "Poornima Institute of Engineering  and Technology  Jaipur\n",
      "Rajasthan College of engineering for Women - [RCEW]  Jaipur\n",
      "The LNM Institute of Information Technology - [LNMIIT]  Jaipur\n",
      "JECRC University - [JU]  Jaipur\n",
      "Jaipur National University - [JNU]  Jaipur\n",
      "Arya College of Engineering & Research Centre - [ACERC]  Jaipur\n",
      "Kautilya Institute of Technology and Engineering and School of Management-[KITE-SOM]  Jaipur\n",
      "Mahatma Gandhi Engineering College  Jaipur\n",
      "Pinkcity Engineering College and Research Centre - [PECRC]  Jaipur\n",
      "Jaipur Engineering College - [JEC]  Jaipur\n",
      "Jaipur Institute of Technology Group of Institution  Jaipur\n",
      "JECRC UDML College of Engineering  Jaipur\n",
      "Global College of Technology - [GCT]  Jaipur\n",
      "Vivekananda Institute of Technology - [VIT]  Jaipur\n",
      "Jaipur Institute of Engineering and Management - [JIEM]  Jaipur\n",
      "Compucom Institute of Information Technology and Management - [CIITM]  Jaipur\n",
      "Shree Bhawani Niketan Institute of Technology and Management -[SBNITM]  Jaipur\n",
      "St Margaret Engineering College  Jaipur\n",
      "International Institute of Management Engineering and Technology - [IIMET]  Jaipur\n",
      "JaganNath Gupta Institute of Engineering & Technology - [JNIT]  Jaipur\n",
      "Jaipur Institute of Engineering & Technology - [JIET]  Jaipur\n",
      "Apex Institute of Engineering and Technology - [AIET]  Jaipur\n",
      "Anand International College of Engineering  Jaipur\n"
     ]
    }
   ],
   "source": [
    "#Rajasthan\n",
    "#Jaipur\n",
    "containerJai = parsed_pageJai.find_all('a', {'class':'college_name' })\n",
    "\n",
    "print(len(containerJai))\n",
    "\n",
    "for tJai in containerJai:\n",
    "\n",
    "    detailJai = tJai.text\n",
    "    detJai = detailJai.split(',')\n",
    "    titleJai = detJai[0]\n",
    "    locJai = detJai[1]\n",
    "    print(titleJai, locJai)\n",
    "    \n",
    "    f.write(titleJai + \",\" + \"Rajasthan\" + \",\" + locJai + \"\\n\")\n"
   ]
  },
  {
   "cell_type": "markdown",
   "metadata": {},
   "source": [
    "### Pilani"
   ]
  },
  {
   "cell_type": "code",
   "execution_count": 92,
   "metadata": {},
   "outputs": [
    {
     "name": "stdout",
     "output_type": "stream",
     "text": [
      "5\n",
      "Birla Institute of Technology and Science - [BITS]  Pilani\n",
      "BK Birla Institute of Engineering and Technology [BKBIET]  Pilani\n",
      "Shridhar University  Pilani\n",
      "Central Electronics Engineering Research Institute - [CEERI]  Pilani\n",
      "Shridhar University  School of Engineering And Technology\n"
     ]
    }
   ],
   "source": [
    "#Rajasthan\n",
    "#Pilani\n",
    "containerPil = parsed_pagePil.find_all('a', {'class':'college_name' })\n",
    "\n",
    "print(len(containerPil))\n",
    "\n",
    "for tPil in containerPil:\n",
    "\n",
    "    detailPil = tPil.text\n",
    "    detPil = detailPil.split(',')\n",
    "    titlePil = detPil[0]\n",
    "    locPil = detPil[1]\n",
    "    print(titlePil, locPil)\n",
    "    \n",
    "    f.write(titlePil + \",\" + \"Rajasthan\" + \",\" + locPil + \"\\n\")\n"
   ]
  },
  {
   "cell_type": "markdown",
   "metadata": {},
   "source": [
    "### Udaipur"
   ]
  },
  {
   "cell_type": "code",
   "execution_count": 93,
   "metadata": {},
   "outputs": [
    {
     "name": "stdout",
     "output_type": "stream",
     "text": [
      "15\n",
      "Sir Padampat Singhania University - [SPSU]  Udaipur\n",
      "College of Technology and Engineering  Maharana Pratap University of Agriculture and Technology - [CTAE]\n",
      "Techno India NJR Institute of Technology - [TINJRIT]  Udaipur\n",
      "Aravali Institute of Technical Studies - [AITS]  Udaipur\n",
      "Maharaja College of Engineering  Udaipur\n",
      "SS College of Engineering  Udaipur\n",
      "Pacific Institute of Technology - [PIT]  Udaipur\n",
      "Geetanjali Institute of Technical Studies - [GITS]  Udaipur\n",
      "Pacific University  Udaipur\n",
      "Pacific Academy of Higher Education & Research Society - [PAHER]  Udaipur\n",
      "Maharana Pratap University of Agricultural and Technology - [MPUAT]  Udaipur\n",
      "Mohanlal Sukhadia University - [MLSU]  Udaipur\n",
      "College of Dairy and Food Science Technology - [CDFST]  Udaipur\n",
      "Sunrise Group of Institutions  Udaipur\n",
      "Pacific College of Engineering - [PCI]  Udaipur\n"
     ]
    }
   ],
   "source": [
    "#Rajasthan\n",
    "#Udaipur\n",
    "containerUda = parsed_pageUda.find_all('a', {'class':'college_name' })\n",
    "\n",
    "print(len(containerUda))\n",
    "\n",
    "for tUda in containerUda:\n",
    "\n",
    "    detailUda = tUda.text\n",
    "    detUda = detailUda.split(',')\n",
    "    titleUda = detUda[0]\n",
    "    locUda = detUda[1]\n",
    "    print(titleUda, locUda)\n",
    "    \n",
    "    f.write(titleUda + \",\" + \"Rajasthan\" + \",\" + locUda + \"\\n\")\n"
   ]
  },
  {
   "cell_type": "markdown",
   "metadata": {},
   "source": [
    "### Jodhpur"
   ]
  },
  {
   "cell_type": "code",
   "execution_count": 94,
   "metadata": {},
   "outputs": [
    {
     "name": "stdout",
     "output_type": "stream",
     "text": [
      "12\n",
      "Indian Institute of Technology - [IIT]  Jodhpur\n",
      "MBM Engineering College - [MBM]  Jodhpur\n",
      "Jodhpur Institute of Engineering and Technology - [JIET]  Jodhpur\n",
      "Jodhpur National University - [JNU]  Jodhpur\n",
      "Mayurakshi Institute of Engineering and Technology -[MIET]  Jodhpur\n",
      "Raj Engineering College- [REC]  Jodhpur\n",
      "Shri Lal Bahadur Shastri Engineering College - [SLBS]  Jodhpur\n",
      "Marwar Engineering College and Research Centre - [MECRC]  Jodhpur\n",
      "Vyas Institute of Engineering and Technology - [VIET]  Jodhpur\n",
      "Jai Narain Vyas University - [JNVU]  Jodhpur\n",
      "JIET School of Engineering & Technology for Girls  Jodhpur\n",
      "Sardar Patel University of Police Security and Criminal Justice - [SPUP]  Jodhpur\n"
     ]
    }
   ],
   "source": [
    "#Rajasthan\n",
    "#Jodhpur\n",
    "containerJod = parsed_pageJod.find_all('a', {'class':'college_name' })\n",
    "\n",
    "print(len(containerJod))\n",
    "\n",
    "for tJod in containerJod:\n",
    "\n",
    "    detailJod = tJod.text\n",
    "    detJod = detailJod.split(',')\n",
    "    titleJod = detJod[0]\n",
    "    locJod = detJod[1]\n",
    "    print(titleJod, locJod)\n",
    "    \n",
    "    f.write(titleJod + \",\" + \"Rajasthan\" + \",\" + locJod + \"\\n\")\n"
   ]
  },
  {
   "cell_type": "code",
   "execution_count": 95,
   "metadata": {},
   "outputs": [],
   "source": [
    "f.close()\n",
    "f1.close()"
   ]
  },
  {
   "cell_type": "code",
   "execution_count": null,
   "metadata": {},
   "outputs": [],
   "source": []
  }
 ],
 "metadata": {
  "kernelspec": {
   "display_name": "Python 3",
   "language": "python",
   "name": "python3"
  },
  "language_info": {
   "codemirror_mode": {
    "name": "ipython",
    "version": 3
   },
   "file_extension": ".py",
   "mimetype": "text/x-python",
   "name": "python",
   "nbconvert_exporter": "python",
   "pygments_lexer": "ipython3",
   "version": "3.6.4"
  }
 },
 "nbformat": 4,
 "nbformat_minor": 1
}
